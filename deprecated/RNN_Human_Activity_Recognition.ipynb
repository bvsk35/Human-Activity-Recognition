{
  "nbformat": 4,
  "nbformat_minor": 0,
  "metadata": {
    "colab": {
      "name": "RNN Human Activity Recognition",
      "provenance": [],
      "collapsed_sections": [],
      "machine_shape": "hm"
    },
    "kernelspec": {
      "name": "python3",
      "display_name": "Python 3"
    },
    "accelerator": "TPU"
  },
  "cells": [
    {
      "cell_type": "markdown",
      "metadata": {
        "id": "OFyLuAx3-wky",
        "colab_type": "text"
      },
      "source": [
        "# RNN for Human Activity Recognition\n",
        "# Import required libraries"
      ]
    },
    {
      "cell_type": "code",
      "metadata": {
        "id": "FWTDDWDE92gm",
        "colab_type": "code",
        "colab": {}
      },
      "source": [
        "import numpy as np\n",
        "import matplotlib\n",
        "import matplotlib.pyplot as plt\n",
        "from sklearn import metrics\n",
        "import random\n",
        "from random import randint\n",
        "import time\n",
        "import os\n",
        "import json"
      ],
      "execution_count": 0,
      "outputs": []
    },
    {
      "cell_type": "code",
      "metadata": {
        "id": "UqJV1rZJ-ddb",
        "colab_type": "code",
        "outputId": "4122dbe0-c1c3-40ee-96dd-8db5a6a495a9",
        "colab": {
          "base_uri": "https://localhost:8080/",
          "height": 52
        }
      },
      "source": [
        "%tensorflow_version 1.x\n",
        "import tensorflow as tf\n",
        "print(tf.__version__)"
      ],
      "execution_count": 2,
      "outputs": [
        {
          "output_type": "stream",
          "text": [
            "TensorFlow 1.x selected.\n",
            "1.15.2\n"
          ],
          "name": "stdout"
        }
      ]
    },
    {
      "cell_type": "markdown",
      "metadata": {
        "id": "gdoxtwqbYeJp",
        "colab_type": "text"
      },
      "source": [
        "# Mount Google Drive"
      ]
    },
    {
      "cell_type": "code",
      "metadata": {
        "id": "EAerYs2kYjlL",
        "colab_type": "code",
        "outputId": "8607a07c-fa2b-4124-9c79-7e02526280a9",
        "colab": {
          "base_uri": "https://localhost:8080/",
          "height": 35
        }
      },
      "source": [
        "from google.colab import drive\n",
        "drive.mount('/content/gdrive')"
      ],
      "execution_count": 3,
      "outputs": [
        {
          "output_type": "stream",
          "text": [
            "Drive already mounted at /content/gdrive; to attempt to forcibly remount, call drive.mount(\"/content/gdrive\", force_remount=True).\n"
          ],
          "name": "stdout"
        }
      ]
    },
    {
      "cell_type": "code",
      "metadata": {
        "id": "kpnCeV5mY-rV",
        "colab_type": "code",
        "colab": {}
      },
      "source": [
        "data_path = '/content/gdrive/My Drive/Deep Learning/MHAD/'"
      ],
      "execution_count": 0,
      "outputs": []
    },
    {
      "cell_type": "markdown",
      "metadata": {
        "id": "myGVNJf4AfN5",
        "colab_type": "text"
      },
      "source": [
        "# Load Dataset"
      ]
    },
    {
      "cell_type": "code",
      "metadata": {
        "id": "fikxm3ET-n6K",
        "colab_type": "code",
        "colab": {}
      },
      "source": [
        "# Useful Constants\n",
        "# Output classes to learn how to classify\n",
        "LABELS = [    \n",
        "    \"JUMPING\",\n",
        "    \"JUMPING_JACKS\",\n",
        "    \"BOXING\",\n",
        "    \"WAVING_2HANDS\",\n",
        "    \"WAVING_1HAND\",\n",
        "    \"CLAPPING_HANDS\"\n",
        "] \n",
        "\n",
        "# LABELS = [    \n",
        "#     \"NO_CLAPPING\",\n",
        "#     \"CLAPPING_HANDS\"\n",
        "# ]\n",
        "\n",
        "X_train_path = data_path + \"X_train.txt\"\n",
        "X_test_path = data_path + \"X_test.txt\"\n",
        "\n",
        "y_train_path = data_path + \"Y_train.txt\"\n",
        "y_test_path = data_path + \"Y_test.txt\"\n",
        "\n",
        "# No. of timesteps per series\n",
        "n_steps = 32 "
      ],
      "execution_count": 0,
      "outputs": []
    },
    {
      "cell_type": "code",
      "metadata": {
        "id": "MP6a9yl_Bu9R",
        "colab_type": "code",
        "colab": {}
      },
      "source": [
        "# Load the Inputs\n",
        "def load_X(X_path):\n",
        "    file = open(X_path, 'r')\n",
        "    X_ = np.array([elem for elem in [row.split(',') for row in file]], dtype=np.float32)\n",
        "    file.close()\n",
        "    blocks = int(len(X_) / n_steps)\n",
        "    X_ = np.array(np.split(X_,blocks))\n",
        "    return X_ \n",
        "\n",
        "# Load the Labels\n",
        "def load_y(y_path):\n",
        "    file = open(y_path, 'r')\n",
        "    y_ = np.array([elem for elem in [row.replace('  ', ' ').strip().split(' ') for row in file]], dtype=np.int32)\n",
        "    file.close()\n",
        "    # for 0-based indexing \n",
        "    return y_ - 1\n",
        "\n",
        "X_train = load_X(X_train_path)\n",
        "X_test = load_X(X_test_path)\n",
        "\n",
        "y_train = load_y(y_train_path)\n",
        "y_test = load_y(y_test_path)"
      ],
      "execution_count": 0,
      "outputs": []
    },
    {
      "cell_type": "markdown",
      "metadata": {
        "id": "gqyCerr8bN2Q",
        "colab_type": "text"
      },
      "source": [
        "# Set Parameters"
      ]
    },
    {
      "cell_type": "code",
      "metadata": {
        "id": "QURM3UQUbRN6",
        "colab_type": "code",
        "colab": {}
      },
      "source": [
        "# Input Data \n",
        "training_data_count = len(X_train) # No. of training inputs 22625\n",
        "test_data_count = len(X_test)  # No. of test inputs 5751\n",
        "n_input = len(X_train[0][0])  # No. of input parameters per timestep\n",
        "\n",
        "n_hidden = 34 # Hidden layer num of features\n",
        "n_classes = 6 # No. of output classes/labels\n",
        "# n_classes = 2 # No. of output classes/labels\n",
        "\n",
        "# Learning rate (exponential) decay calculated as \n",
        "# decayed_learning_rate = learning_rate * decay_rate ^ (global_step / decay_steps)\n",
        "decaying_learning_rate = True\n",
        "learning_rate = 0.0025 # Used if decaying_learning_rate set to False\n",
        "init_learning_rate = 0.005\n",
        "decay_rate = 0.96 # The base of the exponential in the decay\n",
        "decay_steps = 100000 # Used in decay every 60000 steps with a base of 0.96\n",
        "\n",
        "global_step = tf.Variable(0, trainable=False)\n",
        "lambda_loss_amount = 0.0015\n",
        "\n",
        "training_iters = 4.0e4  # 0.05 million epochs of training\n",
        "batch_size = 128\n",
        "display_iter = 1e3  # To show test set accuracy during training"
      ],
      "execution_count": 0,
      "outputs": []
    },
    {
      "cell_type": "markdown",
      "metadata": {
        "id": "GzpsovnmfkRm",
        "colab_type": "text"
      },
      "source": [
        "# Utility functions"
      ]
    },
    {
      "cell_type": "code",
      "metadata": {
        "id": "Z_YcsT1jfnmp",
        "colab_type": "code",
        "colab": {}
      },
      "source": [
        "def LSTM_RNN(_X, _weights, _biases):\n",
        "    _X = tf.transpose(_X, [1, 0, 2])  # permute n_steps and batch_size\n",
        "    _X = tf.reshape(_X, [-1, n_input])   \n",
        "    # ReLU activation function\n",
        "    _X = tf.nn.relu(tf.matmul(_X, _weights['hidden']) + _biases['hidden'])\n",
        "    # Split data because rnn cell needs a list of inputs for the RNN inner loop\n",
        "    _X = tf.split(_X, n_steps, 0) \n",
        "\n",
        "    # Define two stacked LSTM cells (two recurrent layers deep) with tensorflow\n",
        "    # With dropout prob of 0.5 \n",
        "    lstm_cell = tf.contrib.rnn.BasicLSTMCell(n_hidden, forget_bias=1.0, state_is_tuple=True)\n",
        "    # lstm_cell = tf.contrib.rnn.DropoutWrapper(lstm_cell, output_keep_prob=0.5)\n",
        "    lstm_cells = tf.contrib.rnn.MultiRNNCell([lstm_cell] * 2, state_is_tuple=True)\n",
        "    outputs, states = tf.contrib.rnn.static_rnn(lstm_cells, _X, dtype=tf.float32)\n",
        "    outputs = tf.contrib.layers.batch_norm(outputs)\n",
        "\n",
        "    lstm_last_output = outputs[-1]\n",
        "    \n",
        "    # Linear activation\n",
        "    # return tf.add(tf.matmul(lstm_last_output, _weights['out']), _biases['out'], name='Pred')\n",
        "    pred = tf.matmul(lstm_last_output, _weights['out']) + _biases['out']\n",
        "    return pred\n",
        "\n",
        "\n",
        "def extract_batch_size(_train, _labels, batch_size):\n",
        "    # Fetch a \"batch_size\" amount of data and labels from training data.   \n",
        "    shape = list(_train.shape)\n",
        "    shape[0] = batch_size\n",
        "    batch_s = np.empty(shape)\n",
        "    batch_labels = np.empty((batch_size,1)) \n",
        "\n",
        "    idx = random.sample(range(0, len(_train)), batch_size)\n",
        "    batch_s = _train[idx]\n",
        "    batch_labels = _labels[idx]\n",
        "    return batch_s, batch_labels\n",
        "\n",
        "\n",
        "def one_hot(y_):\n",
        "    # One hot encoding of the network outputs\n",
        "    y_ = y_.reshape(len(y_))\n",
        "    n_values = int(np.max(y_)) + 1\n",
        "    return np.eye(n_values)[np.array(y_, dtype=np.int32)]  # Returns FLOATS"
      ],
      "execution_count": 0,
      "outputs": []
    },
    {
      "cell_type": "markdown",
      "metadata": {
        "id": "QE8U9NmGrtnD",
        "colab_type": "text"
      },
      "source": [
        "# Build the RNN model\n"
      ]
    },
    {
      "cell_type": "code",
      "metadata": {
        "id": "Fzrif0x4r1-G",
        "colab_type": "code",
        "outputId": "4f445f9b-a1be-4ac1-d283-3680a8cf5e72",
        "colab": {
          "base_uri": "https://localhost:8080/",
          "height": 453
        }
      },
      "source": [
        "# Graph input/output\n",
        "x = tf.placeholder(tf.float32, [None, n_steps, n_input], name='x')\n",
        "y = tf.placeholder(tf.float32, [None, n_classes], name='y')\n",
        "\n",
        "# Graph weights\n",
        "weights = {\n",
        "    'hidden': tf.Variable(tf.random_normal([n_input, n_hidden]), name='W1'), \n",
        "    'out': tf.Variable(tf.random_normal([n_hidden, n_classes], mean=1.0), name='W2')\n",
        "}\n",
        "biases = {\n",
        "    'hidden': tf.Variable(tf.random_normal([n_hidden]), name='b1'),\n",
        "    'out': tf.Variable(tf.random_normal([n_classes]), name='b2')\n",
        "}\n",
        "\n",
        "pred = LSTM_RNN(x, weights, biases)\n",
        "\n",
        "# Loss, optimizer and evaluation\n",
        "l2 = lambda_loss_amount * sum(\n",
        "    tf.nn.l2_loss(tf_var) for tf_var in tf.trainable_variables()\n",
        ") # L2 regularization to prevent overfitting\n",
        "cost = tf.reduce_mean(tf.nn.softmax_cross_entropy_with_logits(labels=y, logits=pred)) + l2 # Softmax loss\n",
        "if decaying_learning_rate:\n",
        "    learning_rate = tf.train.exponential_decay(init_learning_rate, global_step*batch_size, decay_steps, decay_rate, staircase=True)\n",
        "\n",
        "optimizer = tf.train.AdamOptimizer(learning_rate=learning_rate).minimize(cost,global_step=global_step) # Adam Optimizer\n",
        "\n",
        "correct_pred = tf.equal(tf.argmax(pred,1), tf.argmax(y,1))\n",
        "accuracy = tf.reduce_mean(tf.cast(correct_pred, tf.float32), name='Accuracy')"
      ],
      "execution_count": 11,
      "outputs": [
        {
          "output_type": "stream",
          "text": [
            "WARNING:tensorflow:From <ipython-input-10-795b26bbc6b9>:13: MultiRNNCell.__init__ (from tensorflow.python.ops.rnn_cell_impl) is deprecated and will be removed in a future version.\n",
            "Instructions for updating:\n",
            "This class is equivalent as tf.keras.layers.StackedRNNCells, and will be replaced by that in Tensorflow 2.0.\n",
            "WARNING:tensorflow:At least two cells provided to MultiRNNCell are the same object and will share weights.\n",
            "WARNING:tensorflow:From <ipython-input-10-795b26bbc6b9>:14: static_rnn (from tensorflow.python.ops.rnn) is deprecated and will be removed in a future version.\n",
            "Instructions for updating:\n",
            "Please use `keras.layers.RNN(cell, unroll=True)`, which is equivalent to this API\n",
            "WARNING:tensorflow:From /tensorflow-1.15.2/python3.6/tensorflow_core/python/ops/rnn_cell_impl.py:735: Layer.add_variable (from tensorflow.python.keras.engine.base_layer) is deprecated and will be removed in a future version.\n",
            "Instructions for updating:\n",
            "Please use `layer.add_weight` method instead.\n",
            "WARNING:tensorflow:From /tensorflow-1.15.2/python3.6/tensorflow_core/python/ops/rnn_cell_impl.py:739: calling Zeros.__init__ (from tensorflow.python.ops.init_ops) with dtype is deprecated and will be removed in a future version.\n",
            "Instructions for updating:\n",
            "Call initializer instance with the dtype argument instead of passing it to the constructor\n",
            "WARNING:tensorflow:From /tensorflow-1.15.2/python3.6/tensorflow_core/contrib/layers/python/layers/layers.py:650: Layer.apply (from tensorflow.python.keras.engine.base_layer) is deprecated and will be removed in a future version.\n",
            "Instructions for updating:\n",
            "Please use `layer.__call__` method instead.\n",
            "WARNING:tensorflow:From <ipython-input-11-033c242e519c>:20: softmax_cross_entropy_with_logits (from tensorflow.python.ops.nn_ops) is deprecated and will be removed in a future version.\n",
            "Instructions for updating:\n",
            "\n",
            "Future major versions of TensorFlow will allow gradients to flow\n",
            "into the labels input on backprop by default.\n",
            "\n",
            "See `tf.nn.softmax_cross_entropy_with_logits_v2`.\n",
            "\n"
          ],
          "name": "stdout"
        }
      ]
    },
    {
      "cell_type": "markdown",
      "metadata": {
        "id": "Q9lkdpAfvNME",
        "colab_type": "text"
      },
      "source": [
        "# Train the model"
      ]
    },
    {
      "cell_type": "code",
      "metadata": {
        "id": "qV81GLkSvNlb",
        "colab_type": "code",
        "outputId": "33315ff3-3fa4-49f3-f1b1-2a4aeb25e2f4",
        "colab": {
          "base_uri": "https://localhost:8080/",
          "height": 1000
        }
      },
      "source": [
        "test_losses = []\n",
        "test_accuracies = []\n",
        "train_losses = []\n",
        "train_accuracies = []\n",
        "sess = tf.InteractiveSession(config=tf.ConfigProto(log_device_placement=True))\n",
        "init = tf.global_variables_initializer()\n",
        "sess.run(init)\n",
        "\n",
        "# Save the model\n",
        "saver = tf.train.Saver()\n",
        "\n",
        "# Perform Training steps with \"batch_size\" amount of data at each loop. \n",
        "# Elements of each batch are chosen randomly, without replacement, from X_train\n",
        "step = 0\n",
        "time_start = time.time()\n",
        "\n",
        "while step <= training_iters:\n",
        "    batch_xs, raw_labels = extract_batch_size(X_train, y_train, batch_size)\n",
        "    batch_ys = one_hot(raw_labels)\n",
        "    # Check that encoded output is same length as num_classes, if not, pad it \n",
        "    if len(batch_ys[0]) < n_classes:\n",
        "        temp_ys = np.zeros((batch_size, n_classes))\n",
        "        temp_ys[:batch_ys.shape[0],:batch_ys.shape[1]] = batch_ys\n",
        "        batch_ys = temp_ys\n",
        "\n",
        "    # Fit training using batch data\n",
        "    _, loss, acc = sess.run([optimizer, cost, accuracy], feed_dict={x: batch_xs, y: batch_ys})\n",
        "    train_losses.append(loss)\n",
        "    train_accuracies.append(acc)\n",
        "    \n",
        "    # Evaluate network only at some steps for faster training: \n",
        "    if step % display_iter == 0:\n",
        "        # To not spam console, show training accuracy/loss in this \"if\"\n",
        "        print(\"Iter #\" + str(step) + \\\n",
        "              \":  Learning rate = \" + \"{:.6f}\".format(sess.run(learning_rate)) + \\\n",
        "              \":   Batch Loss = \" + \"{:.6f}\".format(loss) + \\\n",
        "              \", Accuracy = {}\".format(acc))\n",
        "        \n",
        "        # Evaluation on the test set (no learning made here - just evaluation for diagnosis)\n",
        "        loss, acc = sess.run([cost, accuracy], feed_dict={x: X_test, y: one_hot(y_test)})\n",
        "        test_losses.append(loss)\n",
        "        test_accuracies.append(acc)\n",
        "        print(\"PERFORMANCE ON TEST SET:             \" + \\\n",
        "              \"Batch Loss = {}\".format(loss) + \\\n",
        "              \", Accuracy = {}\".format(acc))\n",
        "\n",
        "    step += 1\n",
        "\n",
        "print(\"Optimization Finished!\")\n",
        "time_stop = time.time()\n",
        "print(\"TOTAL TIME for TRAINING: {}\".format(time_stop - time_start))\n",
        "saver.save(sess, 'RNN_Model_Trained.ckpt')"
      ],
      "execution_count": 12,
      "outputs": [
        {
          "output_type": "stream",
          "text": [
            "Device mapping:\n",
            "/job:localhost/replica:0/task:0/device:XLA_CPU:0 -> device: XLA_CPU device\n",
            "\n",
            "Iter #0:  Learning rate = 0.005000:   Batch Loss = 15.854206, Accuracy = 0.1640625\n",
            "PERFORMANCE ON TEST SET:             Batch Loss = 10.416271209716797, Accuracy = 0.13893236219882965\n",
            "Iter #1000:  Learning rate = 0.004800:   Batch Loss = 2.297036, Accuracy = 0.2734375\n",
            "PERFORMANCE ON TEST SET:             Batch Loss = 2.3199713230133057, Accuracy = 0.2712571620941162\n",
            "Iter #2000:  Learning rate = 0.004608:   Batch Loss = 2.105799, Accuracy = 0.1875\n",
            "PERFORMANCE ON TEST SET:             Batch Loss = 2.0991098880767822, Accuracy = 0.21231089532375336\n",
            "Iter #3000:  Learning rate = 0.004424:   Batch Loss = 1.971559, Accuracy = 0.1796875\n",
            "PERFORMANCE ON TEST SET:             Batch Loss = 1.9318666458129883, Accuracy = 0.22830812633037567\n",
            "Iter #4000:  Learning rate = 0.004077:   Batch Loss = 1.849991, Accuracy = 0.1796875\n",
            "PERFORMANCE ON TEST SET:             Batch Loss = 1.8317829370498657, Accuracy = 0.22848200798034668\n",
            "Iter #5000:  Learning rate = 0.003914:   Batch Loss = 1.776831, Accuracy = 0.1875\n",
            "PERFORMANCE ON TEST SET:             Batch Loss = 1.7790329456329346, Accuracy = 0.21057207882404327\n",
            "Iter #6000:  Learning rate = 0.003757:   Batch Loss = 1.731875, Accuracy = 0.234375\n",
            "PERFORMANCE ON TEST SET:             Batch Loss = 1.74562406539917, Accuracy = 0.231264129281044\n",
            "Iter #7000:  Learning rate = 0.003607:   Batch Loss = 1.707769, Accuracy = 0.2578125\n",
            "PERFORMANCE ON TEST SET:             Batch Loss = 1.737296462059021, Accuracy = 0.22952529788017273\n",
            "Iter #8000:  Learning rate = 0.003324:   Batch Loss = 1.752612, Accuracy = 0.203125\n",
            "PERFORMANCE ON TEST SET:             Batch Loss = 1.7365697622299194, Accuracy = 0.22830812633037567\n",
            "Iter #9000:  Learning rate = 0.003191:   Batch Loss = 1.734098, Accuracy = 0.2109375\n",
            "PERFORMANCE ON TEST SET:             Batch Loss = 1.7333014011383057, Accuracy = 0.21144148707389832\n",
            "Iter #10000:  Learning rate = 0.003064:   Batch Loss = 1.740991, Accuracy = 0.2265625\n",
            "PERFORMANCE ON TEST SET:             Batch Loss = 1.7353283166885376, Accuracy = 0.22830812633037567\n",
            "Iter #11000:  Learning rate = 0.002823:   Batch Loss = 1.775110, Accuracy = 0.2109375\n",
            "PERFORMANCE ON TEST SET:             Batch Loss = 1.7300978899002075, Accuracy = 0.22830812633037567\n",
            "Iter #12000:  Learning rate = 0.002710:   Batch Loss = 1.763308, Accuracy = 0.234375\n",
            "PERFORMANCE ON TEST SET:             Batch Loss = 1.7335901260375977, Accuracy = 0.21144148707389832\n",
            "Iter #13000:  Learning rate = 0.002602:   Batch Loss = 1.723488, Accuracy = 0.25\n",
            "PERFORMANCE ON TEST SET:             Batch Loss = 1.7320489883422852, Accuracy = 0.22830812633037567\n",
            "Iter #14000:  Learning rate = 0.002498:   Batch Loss = 1.783240, Accuracy = 0.203125\n",
            "PERFORMANCE ON TEST SET:             Batch Loss = 1.7296110391616821, Accuracy = 0.22830812633037567\n",
            "Iter #15000:  Learning rate = 0.002302:   Batch Loss = 1.716691, Accuracy = 0.2109375\n",
            "PERFORMANCE ON TEST SET:             Batch Loss = 1.7292033433914185, Accuracy = 0.22830812633037567\n",
            "Iter #16000:  Learning rate = 0.002210:   Batch Loss = 1.723595, Accuracy = 0.1796875\n",
            "PERFORMANCE ON TEST SET:             Batch Loss = 1.7323431968688965, Accuracy = 0.22830812633037567\n",
            "Iter #17000:  Learning rate = 0.002122:   Batch Loss = 1.765233, Accuracy = 0.171875\n",
            "PERFORMANCE ON TEST SET:             Batch Loss = 1.7299877405166626, Accuracy = 0.22830812633037567\n",
            "Iter #18000:  Learning rate = 0.001955:   Batch Loss = 1.791911, Accuracy = 0.1796875\n",
            "PERFORMANCE ON TEST SET:             Batch Loss = 1.734233021736145, Accuracy = 0.21144148707389832\n",
            "Iter #19000:  Learning rate = 0.001877:   Batch Loss = 0.588932, Accuracy = 0.8046875\n",
            "PERFORMANCE ON TEST SET:             Batch Loss = 0.6504537463188171, Accuracy = 0.7344809770584106\n",
            "Iter #20000:  Learning rate = 0.001802:   Batch Loss = 0.257733, Accuracy = 0.90625\n",
            "PERFORMANCE ON TEST SET:             Batch Loss = 0.2958291172981262, Accuracy = 0.8961919546127319\n",
            "Iter #21000:  Learning rate = 0.001730:   Batch Loss = 0.279672, Accuracy = 0.9140625\n",
            "PERFORMANCE ON TEST SET:             Batch Loss = 0.2781289517879486, Accuracy = 0.9048861265182495\n",
            "Iter #22000:  Learning rate = 0.001594:   Batch Loss = 0.165281, Accuracy = 0.9609375\n",
            "PERFORMANCE ON TEST SET:             Batch Loss = 0.2149597555398941, Accuracy = 0.9372283220291138\n",
            "Iter #23000:  Learning rate = 0.001531:   Batch Loss = 0.149950, Accuracy = 0.96875\n",
            "PERFORMANCE ON TEST SET:             Batch Loss = 0.22267486155033112, Accuracy = 0.9368805289268494\n",
            "Iter #24000:  Learning rate = 0.001469:   Batch Loss = 0.128136, Accuracy = 0.96875\n",
            "PERFORMANCE ON TEST SET:             Batch Loss = 0.27265557646751404, Accuracy = 0.924360990524292\n",
            "Iter #25000:  Learning rate = 0.001354:   Batch Loss = 0.152376, Accuracy = 0.9453125\n",
            "PERFORMANCE ON TEST SET:             Batch Loss = 0.20285724103450775, Accuracy = 0.9405320882797241\n",
            "Iter #26000:  Learning rate = 0.001300:   Batch Loss = 0.139789, Accuracy = 0.953125\n",
            "PERFORMANCE ON TEST SET:             Batch Loss = 0.18523885309696198, Accuracy = 0.9537471532821655\n",
            "Iter #27000:  Learning rate = 0.001248:   Batch Loss = 0.281724, Accuracy = 0.9296875\n",
            "PERFORMANCE ON TEST SET:             Batch Loss = 0.18420517444610596, Accuracy = 0.9497478604316711\n",
            "Iter #28000:  Learning rate = 0.001198:   Batch Loss = 0.112086, Accuracy = 0.96875\n",
            "PERFORMANCE ON TEST SET:             Batch Loss = 0.16890479624271393, Accuracy = 0.9626151919364929\n",
            "Iter #29000:  Learning rate = 0.001104:   Batch Loss = 0.228932, Accuracy = 0.9296875\n",
            "PERFORMANCE ON TEST SET:             Batch Loss = 0.167874276638031, Accuracy = 0.9573987126350403\n",
            "Iter #30000:  Learning rate = 0.001060:   Batch Loss = 0.107644, Accuracy = 0.96875\n",
            "PERFORMANCE ON TEST SET:             Batch Loss = 0.1457466185092926, Accuracy = 0.9678316712379456\n",
            "Iter #31000:  Learning rate = 0.001018:   Batch Loss = 0.146193, Accuracy = 0.96875\n",
            "PERFORMANCE ON TEST SET:             Batch Loss = 0.16439005732536316, Accuracy = 0.9648756980895996\n",
            "Iter #32000:  Learning rate = 0.000977:   Batch Loss = 0.158828, Accuracy = 0.9375\n",
            "PERFORMANCE ON TEST SET:             Batch Loss = 0.1484690010547638, Accuracy = 0.9671361446380615\n",
            "Iter #33000:  Learning rate = 0.000900:   Batch Loss = 0.082091, Accuracy = 0.984375\n",
            "PERFORMANCE ON TEST SET:             Batch Loss = 0.14361630380153656, Accuracy = 0.968874990940094\n",
            "Iter #34000:  Learning rate = 0.000864:   Batch Loss = 0.070999, Accuracy = 0.9921875\n",
            "PERFORMANCE ON TEST SET:             Batch Loss = 0.14539504051208496, Accuracy = 0.9671361446380615\n",
            "Iter #35000:  Learning rate = 0.000830:   Batch Loss = 0.171522, Accuracy = 0.9375\n",
            "PERFORMANCE ON TEST SET:             Batch Loss = 0.15572082996368408, Accuracy = 0.9622674584388733\n",
            "Iter #36000:  Learning rate = 0.000765:   Batch Loss = 0.116185, Accuracy = 0.9609375\n",
            "PERFORMANCE ON TEST SET:             Batch Loss = 0.14238561689853668, Accuracy = 0.9650495648384094\n",
            "Iter #37000:  Learning rate = 0.000734:   Batch Loss = 0.094517, Accuracy = 0.9765625\n",
            "PERFORMANCE ON TEST SET:             Batch Loss = 0.1399928480386734, Accuracy = 0.9683533310890198\n",
            "Iter #38000:  Learning rate = 0.000705:   Batch Loss = 0.104786, Accuracy = 0.953125\n",
            "PERFORMANCE ON TEST SET:             Batch Loss = 0.13663657009601593, Accuracy = 0.9700921773910522\n",
            "Iter #39000:  Learning rate = 0.000676:   Batch Loss = 0.080203, Accuracy = 0.984375\n",
            "PERFORMANCE ON TEST SET:             Batch Loss = 0.1495337039232254, Accuracy = 0.964006245136261\n",
            "Iter #40000:  Learning rate = 0.000623:   Batch Loss = 0.084321, Accuracy = 0.984375\n",
            "PERFORMANCE ON TEST SET:             Batch Loss = 0.13068974018096924, Accuracy = 0.9739176034927368\n",
            "Optimization Finished!\n",
            "TOTAL TIME for TRAINING: 1696.3647286891937\n"
          ],
          "name": "stdout"
        },
        {
          "output_type": "execute_result",
          "data": {
            "text/plain": [
              "'RNN_Model_Trained.ckpt'"
            ]
          },
          "metadata": {
            "tags": []
          },
          "execution_count": 12
        }
      ]
    },
    {
      "cell_type": "code",
      "metadata": {
        "id": "u5yNwpWg6HfC",
        "colab_type": "code",
        "outputId": "f9f7f24d-7dfc-4d0f-b483-b513d035e6a0",
        "colab": {
          "base_uri": "https://localhost:8080/",
          "height": 35
        }
      },
      "source": [
        "# Accuracy for test data\n",
        "one_hot_predictions, accuracy, final_loss = sess.run([pred, accuracy, cost], feed_dict={x: X_test, y: one_hot(y_test)})\n",
        "\n",
        "test_losses.append(final_loss)\n",
        "test_accuracies.append(accuracy)\n",
        "\n",
        "print(\"FINAL RESULT:\" + \"Batch Loss = {}\".format(final_loss) + \", Accuracy = {}\".format(accuracy))"
      ],
      "execution_count": 13,
      "outputs": [
        {
          "output_type": "stream",
          "text": [
            "FINAL RESULT:Batch Loss = 0.13068974018096924, Accuracy = 0.9739176034927368\n"
          ],
          "name": "stdout"
        }
      ]
    },
    {
      "cell_type": "markdown",
      "metadata": {
        "id": "XhEUDn9PP3J1",
        "colab_type": "text"
      },
      "source": [
        "# Plot the results"
      ]
    },
    {
      "cell_type": "code",
      "metadata": {
        "id": "LbrIwmpCP4ny",
        "colab_type": "code",
        "outputId": "cd4fa5b6-f257-42e3-ac2f-a7cb46c408b5",
        "colab": {
          "base_uri": "https://localhost:8080/",
          "height": 1000
        }
      },
      "source": [
        "width = 12\n",
        "height = 12\n",
        "plt.figure(figsize=(width, height))\n",
        "\n",
        "indep_train_axis = np.array(range(1, (len(train_losses)+1)))\n",
        "plt.plot(indep_train_axis, np.array(train_accuracies), \"g--\", label=\"Train accuracies\")\n",
        "\n",
        "indep_test_axis = np.append(np.array(range(1, len(test_losses)*int(display_iter), int(display_iter))[:-1]),[training_iters])\n",
        "\n",
        "plt.plot(indep_test_axis, np.array(test_accuracies), \"b-\", linewidth=2.0, label=\"Test accuracies\")\n",
        "print(len(test_accuracies))\n",
        "print(len(train_accuracies))\n",
        "\n",
        "plt.title(\"Training session's Accuracy over Iterations\")\n",
        "plt.legend(loc='lower right', shadow=True)\n",
        "plt.ylabel('Training Accuracy')\n",
        "plt.xlabel('Training Iteration')\n",
        "plt.savefig('Acc.jpeg')\n",
        "plt.show()\n",
        "\n",
        "# Results\n",
        "\n",
        "predictions = one_hot_predictions.argmax(1)\n",
        "\n",
        "print(\"Testing Accuracy: {}%\".format(100*accuracy))\n",
        "\n",
        "print(\"\")\n",
        "print(\"Precision: {}%\".format(100*metrics.precision_score(y_test, predictions, average=\"weighted\")))\n",
        "print(\"Recall: {}%\".format(100*metrics.recall_score(y_test, predictions, average=\"weighted\")))\n",
        "print(\"f1_score: {}%\".format(100*metrics.f1_score(y_test, predictions, average=\"weighted\")))\n",
        "\n",
        "print(\"\")\n",
        "print(\"Confusion Matrix:\")\n",
        "print(\"Created using test set of {} datapoints, normalised to % of each class in the test dataset\".format(len(y_test)))\n",
        "confusion_matrix = metrics.confusion_matrix(y_test, predictions)\n",
        "\n",
        "\n",
        "normalised_confusion_matrix = np.array(confusion_matrix, dtype=np.float32)/np.sum(confusion_matrix)*100\n",
        "\n",
        "\n",
        "# Plot Results: \n",
        "width = 12\n",
        "height = 12\n",
        "plt.figure(figsize=(width, height))\n",
        "plt.imshow(\n",
        "    normalised_confusion_matrix, \n",
        "    interpolation='nearest', \n",
        "    cmap=plt.cm.Blues\n",
        ")\n",
        "plt.title(\"Confusion matrix \\n(normalised to % of total test data)\")\n",
        "plt.colorbar()\n",
        "tick_marks = np.arange(n_classes)\n",
        "plt.xticks(tick_marks, LABELS, rotation=90)\n",
        "plt.yticks(tick_marks, LABELS)\n",
        "plt.tight_layout()\n",
        "plt.ylabel('True label')\n",
        "plt.xlabel('Predicted label')\n",
        "plt.savefig('Confusion.jpeg')\n",
        "plt.show()"
      ],
      "execution_count": 14,
      "outputs": [
        {
          "output_type": "stream",
          "text": [
            "42\n",
            "40001\n"
          ],
          "name": "stdout"
        },
        {
          "output_type": "display_data",
          "data": {
            "image/png": "[encoded data removed]",
            "text/plain": [
              "<Figure size 864x864 with 1 Axes>"
            ]
          },
          "metadata": {
            "tags": []
          }
        },
        {
          "output_type": "stream",
          "text": [
            "Testing Accuracy: 97.39176034927368%\n",
            "\n",
            "Precision: 97.39855806274277%\n",
            "Recall: 97.39175795513823%\n",
            "f1_score: 97.39308551250217%\n",
            "\n",
            "Confusion Matrix:\n",
            "Created using test set of 5751 datapoints, normalised to % of each class in the test dataset\n"
          ],
          "name": "stdout"
        },
        {
          "output_type": "display_data",
          "data": {
            "image/png": "[encoded data removed]",
            "text/plain": [
              "<Figure size 864x864 with 2 Axes>"
            ]
          },
          "metadata": {
            "tags": []
          }
        }
      ]
    },
    {
      "cell_type": "markdown",
      "metadata": {
        "id": "8GDHLaiCcQjm",
        "colab_type": "text"
      },
      "source": [
        "# Testing"
      ]
    },
    {
      "cell_type": "code",
      "metadata": {
        "id": "wnU5BzNMF-tv",
        "colab_type": "code",
        "colab": {}
      },
      "source": [
        "def tf_reset():\n",
        "    try:\n",
        "        sess.close()\n",
        "    except:\n",
        "        pass\n",
        "    tf.reset_default_graph()\n",
        "    # return tf.Session()\n",
        "    return tf.InteractiveSession(config=tf.ConfigProto(log_device_placement=True))"
      ],
      "execution_count": 0,
      "outputs": []
    },
    {
      "cell_type": "code",
      "metadata": {
        "id": "tSiufPrRCSXf",
        "colab_type": "code",
        "colab": {
          "base_uri": "https://localhost:8080/",
          "height": 87
        },
        "outputId": "cce2b737-4043-4243-c07d-3eca48045c95"
      },
      "source": [
        "# test_path = '/content/gdrive/My Drive/Deep Learning/Checkpoints/Project Submission 5'\n",
        "test_path = '/content'\n",
        "sess.close()\n",
        "sess = tf_reset()\n",
        "\n",
        "# Graph input/output\n",
        "x = tf.placeholder(tf.float32, [None, n_steps, n_input], name='x')\n",
        "y = tf.placeholder(tf.float32, [None, n_classes], name='y')\n",
        "\n",
        "# Graph weights\n",
        "weights = {\n",
        "    'hidden': tf.Variable(tf.random_normal([n_input, n_hidden]), name='W1'), \n",
        "    'out': tf.Variable(tf.random_normal([n_hidden, n_classes], mean=1.0), name='W2')\n",
        "}\n",
        "biases = {\n",
        "    'hidden': tf.Variable(tf.random_normal([n_hidden]), name='b1'),\n",
        "    'out': tf.Variable(tf.random_normal([n_classes]), name='b2')\n",
        "}\n",
        "\n",
        "pred = LSTM_RNN(x, weights, biases)\n",
        "\n",
        "# Restore the model \n",
        "saver = tf.train.Saver()\n",
        "saver.restore(sess, test_path+\"/RNN_Model_Trained.ckpt\")"
      ],
      "execution_count": 16,
      "outputs": [
        {
          "output_type": "stream",
          "text": [
            "Device mapping:\n",
            "/job:localhost/replica:0/task:0/device:XLA_CPU:0 -> device: XLA_CPU device\n",
            "\n",
            "INFO:tensorflow:Restoring parameters from /content/RNN_Model_Trained.ckpt\n"
          ],
          "name": "stdout"
        }
      ]
    },
    {
      "cell_type": "code",
      "metadata": {
        "id": "7y-2EB2uc0QW",
        "colab_type": "code",
        "outputId": "d2dd33f1-f984-4a81-e25b-b678f8434724",
        "colab": {
          "base_uri": "https://localhost:8080/",
          "height": 283
        }
      },
      "source": [
        "# Video 1\n",
        "test_vid = data_path + 'datapoint_1.txt'\n",
        "test_vid = load_X(test_vid)\n",
        "one_hot_predictions = sess.run([pred], feed_dict={x: test_vid})\n",
        "timestamp = np.loadtxt(data_path + 'timestamp1.txt')\n",
        "\n",
        "v = np.squeeze(np.array(one_hot_predictions))\n",
        "y = np.argmax(np.squeeze(v), axis=1)\n",
        "temp = np.concatenate((timestamp.reshape((-1, 1)), y.reshape((-1, 1))), axis=1)\n",
        "action = [\"Detect Clapping Hands\"]\n",
        "with open('video1.json', 'w') as json_file:\n",
        "  json.dump(action, json_file)\n",
        "  json.dump(LABELS, json_file)\n",
        "  json.dump(temp.T.tolist(), json_file)\n",
        "\n",
        "plt.plot(timestamp, y, '.')\n",
        "plt.xlabel(r'Time stamps $\\rightarrow$')\n",
        "plt.ylabel(r'Labels $\\rightarrow$')\n",
        "plt.savefig('Test1.jpeg')"
      ],
      "execution_count": 17,
      "outputs": [
        {
          "output_type": "display_data",
          "data": {
            "image/png": "[encoded data removed]",
            "text/plain": [
              "<Figure size 432x288 with 1 Axes>"
            ]
          },
          "metadata": {
            "tags": []
          }
        }
      ]
    },
    {
      "cell_type": "code",
      "metadata": {
        "id": "NDJFRb4Dh7-T",
        "colab_type": "code",
        "outputId": "ee9ee1fb-ab9a-497b-9900-175ff4bbbb86",
        "colab": {
          "base_uri": "https://localhost:8080/",
          "height": 283
        }
      },
      "source": [
        "# Video 2\n",
        "test_vid = data_path + 'datapoint_2.txt'\n",
        "test_vid = load_X(test_vid)\n",
        "one_hot_predictions = sess.run([pred], feed_dict={x: test_vid})\n",
        "timestamp = np.loadtxt(data_path + 'timestamp2.txt')\n",
        "\n",
        "v = np.squeeze(np.array(one_hot_predictions))\n",
        "y = np.argmax(np.squeeze(v), axis=1)\n",
        "temp = np.concatenate((timestamp.reshape((-1, 1)), y.reshape((-1, 1))), axis=1)\n",
        "action = [\"Detect Clapping Hands\"]\n",
        "with open('video2.json', 'w') as json_file:\n",
        "  json.dump(action, json_file)\n",
        "  json.dump(LABELS, json_file)\n",
        "  json.dump(temp.T.tolist(), json_file)\n",
        "\n",
        "plt.plot(timestamp, y, '.')\n",
        "plt.xlabel(r'Time stamps $\\rightarrow$')\n",
        "plt.ylabel(r'Labels $\\rightarrow$')\n",
        "plt.savefig('Test2.jpeg')"
      ],
      "execution_count": 18,
      "outputs": [
        {
          "output_type": "display_data",
          "data": {
            "image/png": "[encoded data removed]",
            "text/plain": [
              "<Figure size 432x288 with 1 Axes>"
            ]
          },
          "metadata": {
            "tags": []
          }
        }
      ]
    },
    {
      "cell_type": "code",
      "metadata": {
        "id": "TNUw5EaDh8Y_",
        "colab_type": "code",
        "outputId": "871f04af-a28c-4518-c32f-9d146bdc9423",
        "colab": {
          "base_uri": "https://localhost:8080/",
          "height": 283
        }
      },
      "source": [
        "# Video 3\n",
        "test_vid = data_path + 'datapoint_3.txt'\n",
        "test_vid = load_X(test_vid)\n",
        "one_hot_predictions = sess.run([pred], feed_dict={x: test_vid})\n",
        "timestamp = np.loadtxt(data_path + 'timestamp3.txt')\n",
        "\n",
        "v = np.squeeze(np.array(one_hot_predictions))\n",
        "y = np.argmax(np.squeeze(v), axis=1)\n",
        "temp = np.concatenate((timestamp.reshape((-1, 1)), y.reshape((-1, 1))), axis=1)\n",
        "action = [\"Detect Clapping Hands\"]\n",
        "with open('video3.json', 'w') as json_file:\n",
        "  json.dump(action, json_file)\n",
        "  json.dump(LABELS, json_file)\n",
        "  json.dump(temp.T.tolist(), json_file)\n",
        "\n",
        "plt.plot(timestamp, y, '.')\n",
        "plt.xlabel(r'Time stamps $\\rightarrow$')\n",
        "plt.ylabel(r'Labels $\\rightarrow$')\n",
        "plt.savefig('Test3.jpeg')"
      ],
      "execution_count": 19,
      "outputs": [
        {
          "output_type": "display_data",
          "data": {
            "image/png": "[encoded data removed]",
            "text/plain": [
              "<Figure size 432x288 with 1 Axes>"
            ]
          },
          "metadata": {
            "tags": []
          }
        }
      ]
    },
    {
      "cell_type": "code",
      "metadata": {
        "id": "k1yH-PS2h80W",
        "colab_type": "code",
        "outputId": "3258be4d-b7ac-4dbc-be6e-5fb37ebb7f35",
        "colab": {
          "base_uri": "https://localhost:8080/",
          "height": 283
        }
      },
      "source": [
        "# Video 4\n",
        "test_vid = data_path + 'datapoint_4.txt'\n",
        "test_vid = load_X(test_vid)\n",
        "one_hot_predictions = sess.run([pred], feed_dict={x: test_vid})\n",
        "timestamp = np.loadtxt(data_path + 'timestamp4.txt')\n",
        "\n",
        "v = np.squeeze(np.array(one_hot_predictions))\n",
        "y = np.argmax(np.squeeze(v), axis=1)\n",
        "temp = np.concatenate((timestamp.reshape((-1, 1)), y.reshape((-1, 1))), axis=1)\n",
        "action = [\"Detect Clapping Hands\"]\n",
        "with open('video4.json', 'w') as json_file:\n",
        "  json.dump(action, json_file)\n",
        "  json.dump(LABELS, json_file)\n",
        "  json.dump(temp.T.tolist(), json_file)\n",
        "\n",
        "plt.plot(timestamp, y, '.')\n",
        "plt.xlabel(r'Time stamps $\\rightarrow$')\n",
        "plt.ylabel(r'Labels $\\rightarrow$')\n",
        "plt.savefig('Test4.jpeg')"
      ],
      "execution_count": 20,
      "outputs": [
        {
          "output_type": "display_data",
          "data": {
            "image/png": "[encoded data removed]",
            "text/plain": [
              "<Figure size 432x288 with 1 Axes>"
            ]
          },
          "metadata": {
            "tags": []
          }
        }
      ]
    },
    {
      "cell_type": "code",
      "metadata": {
        "id": "013jIIdvh9SA",
        "colab_type": "code",
        "outputId": "ecd8cf1b-500d-4bf5-e37e-3f2c0c71bee7",
        "colab": {
          "base_uri": "https://localhost:8080/",
          "height": 283
        }
      },
      "source": [
        "# Video 5\n",
        "test_vid = data_path + 'datapoint_5.txt'\n",
        "test_vid = load_X(test_vid)\n",
        "one_hot_predictions = sess.run([pred], feed_dict={x: test_vid})\n",
        "timestamp = np.loadtxt(data_path + 'timestamp5.txt')\n",
        "\n",
        "v = np.squeeze(np.array(one_hot_predictions))\n",
        "y = np.argmax(np.squeeze(v), axis=1)\n",
        "temp = np.concatenate((timestamp.reshape((-1, 1)), y.reshape((-1, 1))), axis=1)\n",
        "action = [\"Detect Clapping Hands\"]\n",
        "with open('video5.json', 'w') as json_file:\n",
        "  json.dump(action, json_file)\n",
        "  json.dump(LABELS, json_file)\n",
        "  json.dump(temp.T.tolist(), json_file)\n",
        "\n",
        "plt.plot(timestamp, y, '.')\n",
        "plt.xlabel(r'Time stamps $\\rightarrow$')\n",
        "plt.ylabel(r'Labels $\\rightarrow$')\n",
        "plt.savefig('Test5.jpeg')"
      ],
      "execution_count": 21,
      "outputs": [
        {
          "output_type": "display_data",
          "data": {
            "image/png": "[encoded data removed]",
            "text/plain": [
              "<Figure size 432x288 with 1 Axes>"
            ]
          },
          "metadata": {
            "tags": []
          }
        }
      ]
    }
  ]
}