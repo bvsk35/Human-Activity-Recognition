{
 "cells": [
  {
   "cell_type": "markdown",
   "metadata": {
    "colab_type": "text",
    "id": "OFyLuAx3-wky"
   },
   "source": [
    "# RNN for Human Activity Recognition\n",
    "# Import required libraries"
   ]
  },
  {
   "cell_type": "code",
   "execution_count": 0,
   "metadata": {
    "colab": {},
    "colab_type": "code",
    "id": "FWTDDWDE92gm"
   },
   "outputs": [],
   "source": [
    "import numpy as np\n",
    "import matplotlib\n",
    "import matplotlib.pyplot as plt\n",
    "from sklearn import metrics\n",
    "import random\n",
    "from random import randint\n",
    "import time\n",
    "import os\n",
    "import json"
   ]
  },
  {
   "cell_type": "code",
   "execution_count": 18,
   "metadata": {
    "colab": {
     "base_uri": "https://localhost:8080/",
     "height": 35
    },
    "colab_type": "code",
    "id": "UqJV1rZJ-ddb",
    "outputId": "601fee26-c2a8-4276-b84d-d1a9fc470919"
   },
   "outputs": [
    {
     "name": "stdout",
     "output_type": "stream",
     "text": [
      "1.15.0\n"
     ]
    }
   ],
   "source": [
    "%tensorflow_version 1.x\n",
    "import tensorflow as tf\n",
    "print(tf.__version__)"
   ]
  },
  {
   "cell_type": "markdown",
   "metadata": {
    "colab_type": "text",
    "id": "gdoxtwqbYeJp"
   },
   "source": [
    "# Mount Google Drive"
   ]
  },
  {
   "cell_type": "code",
   "execution_count": 3,
   "metadata": {
    "colab": {
     "base_uri": "https://localhost:8080/",
     "height": 35
    },
    "colab_type": "code",
    "id": "EAerYs2kYjlL",
    "outputId": "ff906771-022d-48d0-cd97-60eb54b0611c"
   },
   "outputs": [
    {
     "name": "stdout",
     "output_type": "stream",
     "text": [
      "Drive already mounted at /content/gdrive; to attempt to forcibly remount, call drive.mount(\"/content/gdrive\", force_remount=True).\n"
     ]
    }
   ],
   "source": [
    "from google.colab import drive\n",
    "drive.mount('/content/gdrive')"
   ]
  },
  {
   "cell_type": "code",
   "execution_count": 0,
   "metadata": {
    "colab": {},
    "colab_type": "code",
    "id": "kpnCeV5mY-rV"
   },
   "outputs": [],
   "source": [
    "data_path = '/content/gdrive/My Drive/Deep Learning/MHAD/'"
   ]
  },
  {
   "cell_type": "markdown",
   "metadata": {
    "colab_type": "text",
    "id": "myGVNJf4AfN5"
   },
   "source": [
    "# Load Dataset"
   ]
  },
  {
   "cell_type": "code",
   "execution_count": 0,
   "metadata": {
    "colab": {},
    "colab_type": "code",
    "id": "fikxm3ET-n6K"
   },
   "outputs": [],
   "source": [
    "# Useful Constants\n",
    "# Output classes to learn how to classify\n",
    "LABELS = [    \n",
    "    \"JUMPING\",\n",
    "    \"JUMPING_JACKS\",\n",
    "    \"BOXING\",\n",
    "    \"WAVING_2HANDS\",\n",
    "    \"WAVING_1HAND\",\n",
    "    \"CLAPPING_HANDS\"\n",
    "] \n",
    "\n",
    "# LABELS = [    \n",
    "#     \"NO_CLAPPING\",\n",
    "#     \"CLAPPING_HANDS\"\n",
    "# ]\n",
    "\n",
    "X_train_path = data_path + \"X_train.txt\"\n",
    "X_test_path = data_path + \"X_test.txt\"\n",
    "\n",
    "y_train_path = data_path + \"Y_train.txt\"\n",
    "y_test_path = data_path + \"Y_test.txt\"\n",
    "\n",
    "# No. of timesteps per series\n",
    "n_steps = 32 "
   ]
  },
  {
   "cell_type": "code",
   "execution_count": 0,
   "metadata": {
    "colab": {},
    "colab_type": "code",
    "id": "MP6a9yl_Bu9R"
   },
   "outputs": [],
   "source": [
    "# Load the Inputs\n",
    "def load_X(X_path):\n",
    "    file = open(X_path, 'r')\n",
    "    X_ = np.array([elem for elem in [row.split(',') for row in file]], dtype=np.float32)\n",
    "    file.close()\n",
    "    blocks = int(len(X_) / n_steps)\n",
    "    X_ = np.array(np.split(X_,blocks))\n",
    "    return X_ \n",
    "\n",
    "# Load the Labels\n",
    "def load_y(y_path):\n",
    "    file = open(y_path, 'r')\n",
    "    y_ = np.array([elem for elem in [row.replace('  ', ' ').strip().split(' ') for row in file]], dtype=np.int32)\n",
    "    file.close()\n",
    "    # for 0-based indexing \n",
    "    return y_ - 1\n",
    "\n",
    "X_train = load_X(X_train_path)\n",
    "X_test = load_X(X_test_path)\n",
    "\n",
    "y_train = load_y(y_train_path)\n",
    "y_test = load_y(y_test_path)"
   ]
  },
  {
   "cell_type": "markdown",
   "metadata": {
    "colab_type": "text",
    "id": "gqyCerr8bN2Q"
   },
   "source": [
    "# Set Parameters"
   ]
  },
  {
   "cell_type": "code",
   "execution_count": 0,
   "metadata": {
    "colab": {},
    "colab_type": "code",
    "id": "QURM3UQUbRN6"
   },
   "outputs": [],
   "source": [
    "# Input Data \n",
    "training_data_count = len(X_train) # No. of training inputs 22625\n",
    "test_data_count = len(X_test)  # No. of test inputs 5751\n",
    "n_input = len(X_train[0][0])  # No. of input parameters per timestep\n",
    "\n",
    "n_hidden = 34 # Hidden layer num of features\n",
    "n_classes = 6 # No. of output classes/labels\n",
    "# n_classes = 2 # No. of output classes/labels\n",
    "\n",
    "# Learning rate (exponential) decay calculated as \n",
    "# decayed_learning_rate = learning_rate * decay_rate ^ (global_step / decay_steps)\n",
    "decaying_learning_rate = True\n",
    "learning_rate = 0.0025 # Used if decaying_learning_rate set to False\n",
    "init_learning_rate = 0.005\n",
    "decay_rate = 0.96 # The base of the exponential in the decay\n",
    "decay_steps = 100000 # Used in decay every 60000 steps with a base of 0.96\n",
    "\n",
    "global_step = tf.Variable(0, trainable=False)\n",
    "lambda_loss_amount = 0.0015\n",
    "\n",
    "training_iters = 4.0e4  # 0.05 million epochs of training\n",
    "batch_size = 128\n",
    "display_iter = 1e3  # To show test set accuracy during training"
   ]
  },
  {
   "cell_type": "markdown",
   "metadata": {
    "colab_type": "text",
    "id": "GzpsovnmfkRm"
   },
   "source": [
    "# Utility functions"
   ]
  },
  {
   "cell_type": "code",
   "execution_count": 0,
   "metadata": {
    "colab": {},
    "colab_type": "code",
    "id": "Z_YcsT1jfnmp"
   },
   "outputs": [],
   "source": [
    "def LSTM_RNN(_X, _weights, _biases):\n",
    "    _X = tf.transpose(_X, [1, 0, 2])  # permute n_steps and batch_size\n",
    "    _X = tf.reshape(_X, [-1, n_input])   \n",
    "    # ReLU activation function\n",
    "    _X = tf.nn.relu(tf.matmul(_X, _weights['hidden']) + _biases['hidden'])\n",
    "    # Split data because rnn cell needs a list of inputs for the RNN inner loop\n",
    "    _X = tf.split(_X, n_steps, 0) \n",
    "\n",
    "    # Define two stacked LSTM cells (two recurrent layers deep) with tensorflow\n",
    "    # With dropout prob of 0.5 \n",
    "    lstm_cell = tf.contrib.rnn.BasicLSTMCell(n_hidden, forget_bias=1.0, state_is_tuple=True)\n",
    "    # lstm_cell = tf.contrib.rnn.DropoutWrapper(lstm_cell, output_keep_prob=0.5)\n",
    "    lstm_cells = tf.contrib.rnn.MultiRNNCell([lstm_cell] * 2, state_is_tuple=True)\n",
    "    outputs, states = tf.contrib.rnn.static_rnn(lstm_cells, _X, dtype=tf.float32)\n",
    "\n",
    "    lstm_last_output = outputs[-1]\n",
    "    \n",
    "    # Linear activation\n",
    "    # return tf.add(tf.matmul(lstm_last_output, _weights['out']), _biases['out'], name='Pred')\n",
    "    return tf.matmul(lstm_last_output, _weights['out']) + _biases['out']\n",
    "\n",
    "\n",
    "def extract_batch_size(_train, _labels, batch_size):\n",
    "    # Fetch a \"batch_size\" amount of data and labels from training data.   \n",
    "    shape = list(_train.shape)\n",
    "    shape[0] = batch_size\n",
    "    batch_s = np.empty(shape)\n",
    "    batch_labels = np.empty((batch_size,1)) \n",
    "\n",
    "    idx = random.sample(range(0, len(_train)), batch_size)\n",
    "    batch_s = _train[idx]\n",
    "    batch_labels = _labels[idx]\n",
    "    return batch_s, batch_labels\n",
    "\n",
    "\n",
    "def one_hot(y_):\n",
    "    # One hot encoding of the network outputs\n",
    "    y_ = y_.reshape(len(y_))\n",
    "    n_values = int(np.max(y_)) + 1\n",
    "    return np.eye(n_values)[np.array(y_, dtype=np.int32)]  # Returns FLOATS"
   ]
  },
  {
   "cell_type": "markdown",
   "metadata": {
    "colab_type": "text",
    "id": "QE8U9NmGrtnD"
   },
   "source": [
    "# Build the RNN model\n"
   ]
  },
  {
   "cell_type": "code",
   "execution_count": 9,
   "metadata": {
    "colab": {
     "base_uri": "https://localhost:8080/",
     "height": 592
    },
    "colab_type": "code",
    "id": "Fzrif0x4r1-G",
    "outputId": "b703ba83-ae8b-469e-99fa-683edcf40328"
   },
   "outputs": [
    {
     "name": "stdout",
     "output_type": "stream",
     "text": [
      "WARNING:tensorflow:\n",
      "The TensorFlow contrib module will not be included in TensorFlow 2.0.\n",
      "For more information, please see:\n",
      "  * https://github.com/tensorflow/community/blob/master/rfcs/20180907-contrib-sunset.md\n",
      "  * https://github.com/tensorflow/addons\n",
      "  * https://github.com/tensorflow/io (for I/O related ops)\n",
      "If you depend on functionality not listed there, please file an issue.\n",
      "\n",
      "WARNING:tensorflow:From <ipython-input-8-cf8e505722b0>:11: BasicLSTMCell.__init__ (from tensorflow.python.ops.rnn_cell_impl) is deprecated and will be removed in a future version.\n",
      "Instructions for updating:\n",
      "This class is equivalent as tf.keras.layers.LSTMCell, and will be replaced by that in Tensorflow 2.0.\n",
      "WARNING:tensorflow:From <ipython-input-8-cf8e505722b0>:13: MultiRNNCell.__init__ (from tensorflow.python.ops.rnn_cell_impl) is deprecated and will be removed in a future version.\n",
      "Instructions for updating:\n",
      "This class is equivalent as tf.keras.layers.StackedRNNCells, and will be replaced by that in Tensorflow 2.0.\n",
      "WARNING:tensorflow:At least two cells provided to MultiRNNCell are the same object and will share weights.\n",
      "WARNING:tensorflow:From <ipython-input-8-cf8e505722b0>:14: static_rnn (from tensorflow.python.ops.rnn) is deprecated and will be removed in a future version.\n",
      "Instructions for updating:\n",
      "Please use `keras.layers.RNN(cell, unroll=True)`, which is equivalent to this API\n",
      "WARNING:tensorflow:From /tensorflow-1.15.0/python3.6/tensorflow_core/python/ops/rnn_cell_impl.py:735: Layer.add_variable (from tensorflow.python.keras.engine.base_layer) is deprecated and will be removed in a future version.\n",
      "Instructions for updating:\n",
      "Please use `layer.add_weight` method instead.\n",
      "WARNING:tensorflow:From /tensorflow-1.15.0/python3.6/tensorflow_core/python/ops/rnn_cell_impl.py:739: calling Zeros.__init__ (from tensorflow.python.ops.init_ops) with dtype is deprecated and will be removed in a future version.\n",
      "Instructions for updating:\n",
      "Call initializer instance with the dtype argument instead of passing it to the constructor\n",
      "WARNING:tensorflow:From <ipython-input-9-033c242e519c>:20: softmax_cross_entropy_with_logits (from tensorflow.python.ops.nn_ops) is deprecated and will be removed in a future version.\n",
      "Instructions for updating:\n",
      "\n",
      "Future major versions of TensorFlow will allow gradients to flow\n",
      "into the labels input on backprop by default.\n",
      "\n",
      "See `tf.nn.softmax_cross_entropy_with_logits_v2`.\n",
      "\n"
     ]
    }
   ],
   "source": [
    "# Graph input/output\n",
    "x = tf.placeholder(tf.float32, [None, n_steps, n_input], name='x')\n",
    "y = tf.placeholder(tf.float32, [None, n_classes], name='y')\n",
    "\n",
    "# Graph weights\n",
    "weights = {\n",
    "    'hidden': tf.Variable(tf.random_normal([n_input, n_hidden]), name='W1'), \n",
    "    'out': tf.Variable(tf.random_normal([n_hidden, n_classes], mean=1.0), name='W2')\n",
    "}\n",
    "biases = {\n",
    "    'hidden': tf.Variable(tf.random_normal([n_hidden]), name='b1'),\n",
    "    'out': tf.Variable(tf.random_normal([n_classes]), name='b2')\n",
    "}\n",
    "\n",
    "pred = LSTM_RNN(x, weights, biases)\n",
    "\n",
    "# Loss, optimizer and evaluation\n",
    "l2 = lambda_loss_amount * sum(\n",
    "    tf.nn.l2_loss(tf_var) for tf_var in tf.trainable_variables()\n",
    ") # L2 regularization to prevent overfitting\n",
    "cost = tf.reduce_mean(tf.nn.softmax_cross_entropy_with_logits(labels=y, logits=pred)) + l2 # Softmax loss\n",
    "if decaying_learning_rate:\n",
    "    learning_rate = tf.train.exponential_decay(init_learning_rate, global_step*batch_size, decay_steps, decay_rate, staircase=True)\n",
    "\n",
    "optimizer = tf.train.AdamOptimizer(learning_rate=learning_rate).minimize(cost,global_step=global_step) # Adam Optimizer\n",
    "\n",
    "correct_pred = tf.equal(tf.argmax(pred,1), tf.argmax(y,1))\n",
    "accuracy = tf.reduce_mean(tf.cast(correct_pred, tf.float32), name='Accuracy')"
   ]
  },
  {
   "cell_type": "markdown",
   "metadata": {
    "colab_type": "text",
    "id": "Q9lkdpAfvNME"
   },
   "source": [
    "# Train the model"
   ]
  },
  {
   "cell_type": "code",
   "execution_count": 10,
   "metadata": {
    "colab": {
     "base_uri": "https://localhost:8080/",
     "height": 1000
    },
    "colab_type": "code",
    "id": "qV81GLkSvNlb",
    "outputId": "1bc7cdf2-528f-4345-a6d6-47944d99587d"
   },
   "outputs": [
    {
     "name": "stdout",
     "output_type": "stream",
     "text": [
      "Device mapping:\n",
      "/job:localhost/replica:0/task:0/device:XLA_CPU:0 -> device: XLA_CPU device\n",
      "\n",
      "Iter #0:  Learning rate = 0.005000:   Batch Loss = 5.160594, Accuracy = 0.0625\n",
      "PERFORMANCE ON TEST SET:             Batch Loss = 3.8460826873779297, Accuracy = 0.0799860879778862\n",
      "Iter #1000:  Learning rate = 0.004800:   Batch Loss = 2.001196, Accuracy = 0.25\n",
      "PERFORMANCE ON TEST SET:             Batch Loss = 2.001995086669922, Accuracy = 0.23056860268115997\n",
      "Iter #2000:  Learning rate = 0.004608:   Batch Loss = 1.806683, Accuracy = 0.2421875\n",
      "PERFORMANCE ON TEST SET:             Batch Loss = 1.805108666419983, Accuracy = 0.23056860268115997\n",
      "Iter #3000:  Learning rate = 0.004424:   Batch Loss = 1.773983, Accuracy = 0.25\n",
      "PERFORMANCE ON TEST SET:             Batch Loss = 1.752214789390564, Accuracy = 0.22830812633037567\n",
      "Iter #4000:  Learning rate = 0.004077:   Batch Loss = 1.730770, Accuracy = 0.25\n",
      "PERFORMANCE ON TEST SET:             Batch Loss = 1.7405235767364502, Accuracy = 0.22830812633037567\n",
      "Iter #5000:  Learning rate = 0.003914:   Batch Loss = 1.730303, Accuracy = 0.2109375\n",
      "PERFORMANCE ON TEST SET:             Batch Loss = 1.7359312772750854, Accuracy = 0.21144148707389832\n",
      "Iter #6000:  Learning rate = 0.003757:   Batch Loss = 1.755833, Accuracy = 0.1953125\n",
      "PERFORMANCE ON TEST SET:             Batch Loss = 1.7340397834777832, Accuracy = 0.22830812633037567\n",
      "Iter #7000:  Learning rate = 0.003607:   Batch Loss = 1.748626, Accuracy = 0.2421875\n",
      "PERFORMANCE ON TEST SET:             Batch Loss = 1.7366185188293457, Accuracy = 0.22830812633037567\n",
      "Iter #8000:  Learning rate = 0.003324:   Batch Loss = 1.749867, Accuracy = 0.171875\n",
      "PERFORMANCE ON TEST SET:             Batch Loss = 1.730884313583374, Accuracy = 0.22830812633037567\n",
      "Iter #9000:  Learning rate = 0.003191:   Batch Loss = 1.756473, Accuracy = 0.21875\n",
      "PERFORMANCE ON TEST SET:             Batch Loss = 1.733960747718811, Accuracy = 0.22830812633037567\n",
      "Iter #10000:  Learning rate = 0.003064:   Batch Loss = 1.777915, Accuracy = 0.2109375\n",
      "PERFORMANCE ON TEST SET:             Batch Loss = 1.7313520908355713, Accuracy = 0.22830812633037567\n",
      "Iter #11000:  Learning rate = 0.002823:   Batch Loss = 1.749630, Accuracy = 0.2265625\n",
      "PERFORMANCE ON TEST SET:             Batch Loss = 1.7327536344528198, Accuracy = 0.22830812633037567\n",
      "Iter #12000:  Learning rate = 0.002710:   Batch Loss = 1.751252, Accuracy = 0.2265625\n",
      "PERFORMANCE ON TEST SET:             Batch Loss = 1.7312341928482056, Accuracy = 0.22830812633037567\n",
      "Iter #13000:  Learning rate = 0.002602:   Batch Loss = 1.702328, Accuracy = 0.2734375\n",
      "PERFORMANCE ON TEST SET:             Batch Loss = 1.7313023805618286, Accuracy = 0.22830812633037567\n",
      "Iter #14000:  Learning rate = 0.002498:   Batch Loss = 1.707344, Accuracy = 0.21875\n",
      "PERFORMANCE ON TEST SET:             Batch Loss = 1.7302947044372559, Accuracy = 0.22830812633037567\n",
      "Iter #15000:  Learning rate = 0.002302:   Batch Loss = 1.745486, Accuracy = 0.21875\n",
      "PERFORMANCE ON TEST SET:             Batch Loss = 1.728731393814087, Accuracy = 0.22952529788017273\n",
      "Iter #16000:  Learning rate = 0.002210:   Batch Loss = 1.764816, Accuracy = 0.1796875\n",
      "PERFORMANCE ON TEST SET:             Batch Loss = 1.7298316955566406, Accuracy = 0.22830812633037567\n",
      "Iter #17000:  Learning rate = 0.002122:   Batch Loss = 1.798090, Accuracy = 0.2109375\n",
      "PERFORMANCE ON TEST SET:             Batch Loss = 1.7292557954788208, Accuracy = 0.22830812633037567\n",
      "Iter #18000:  Learning rate = 0.001955:   Batch Loss = 1.739481, Accuracy = 0.25\n",
      "PERFORMANCE ON TEST SET:             Batch Loss = 1.7290122509002686, Accuracy = 0.22952529788017273\n",
      "Iter #19000:  Learning rate = 0.001877:   Batch Loss = 1.667776, Accuracy = 0.2890625\n",
      "PERFORMANCE ON TEST SET:             Batch Loss = 1.6716235876083374, Accuracy = 0.3027299642562866\n",
      "Iter #20000:  Learning rate = 0.001802:   Batch Loss = 0.642890, Accuracy = 0.75\n",
      "PERFORMANCE ON TEST SET:             Batch Loss = 0.5114569664001465, Accuracy = 0.818988025188446\n",
      "Iter #21000:  Learning rate = 0.001730:   Batch Loss = 0.346108, Accuracy = 0.8671875\n",
      "PERFORMANCE ON TEST SET:             Batch Loss = 0.34228187799453735, Accuracy = 0.8934098482131958\n",
      "Iter #22000:  Learning rate = 0.001594:   Batch Loss = 0.212035, Accuracy = 0.9296875\n",
      "PERFORMANCE ON TEST SET:             Batch Loss = 0.25889667868614197, Accuracy = 0.9285341501235962\n",
      "Iter #23000:  Learning rate = 0.001531:   Batch Loss = 0.217606, Accuracy = 0.9453125\n",
      "PERFORMANCE ON TEST SET:             Batch Loss = 0.2229732871055603, Accuracy = 0.9422709345817566\n",
      "Iter #24000:  Learning rate = 0.001469:   Batch Loss = 0.170647, Accuracy = 0.9609375\n",
      "PERFORMANCE ON TEST SET:             Batch Loss = 0.2052086591720581, Accuracy = 0.9533994197845459\n",
      "Iter #25000:  Learning rate = 0.001354:   Batch Loss = 0.143958, Accuracy = 0.9765625\n",
      "PERFORMANCE ON TEST SET:             Batch Loss = 0.1883268654346466, Accuracy = 0.9584420323371887\n",
      "Iter #26000:  Learning rate = 0.001300:   Batch Loss = 0.096579, Accuracy = 1.0\n",
      "PERFORMANCE ON TEST SET:             Batch Loss = 0.21047919988632202, Accuracy = 0.9429664611816406\n",
      "Iter #27000:  Learning rate = 0.001248:   Batch Loss = 0.109872, Accuracy = 0.984375\n",
      "PERFORMANCE ON TEST SET:             Batch Loss = 0.18946798145771027, Accuracy = 0.9577465057373047\n",
      "Iter #28000:  Learning rate = 0.001198:   Batch Loss = 0.124406, Accuracy = 0.984375\n",
      "PERFORMANCE ON TEST SET:             Batch Loss = 0.19524143636226654, Accuracy = 0.9568770527839661\n",
      "Iter #29000:  Learning rate = 0.001104:   Batch Loss = 0.124708, Accuracy = 0.9765625\n",
      "PERFORMANCE ON TEST SET:             Batch Loss = 0.16194842755794525, Accuracy = 0.9709615707397461\n",
      "Iter #30000:  Learning rate = 0.001060:   Batch Loss = 0.103062, Accuracy = 0.9921875\n",
      "PERFORMANCE ON TEST SET:             Batch Loss = 0.17327508330345154, Accuracy = 0.9627890586853027\n",
      "Iter #31000:  Learning rate = 0.001018:   Batch Loss = 0.105934, Accuracy = 0.9921875\n",
      "PERFORMANCE ON TEST SET:             Batch Loss = 0.14886395633220673, Accuracy = 0.9721787571907043\n",
      "Iter #32000:  Learning rate = 0.000977:   Batch Loss = 0.151275, Accuracy = 0.96875\n",
      "PERFORMANCE ON TEST SET:             Batch Loss = 0.1397818922996521, Accuracy = 0.9768735766410828\n",
      "Iter #33000:  Learning rate = 0.000900:   Batch Loss = 0.104369, Accuracy = 0.9921875\n",
      "PERFORMANCE ON TEST SET:             Batch Loss = 0.1359160840511322, Accuracy = 0.9756563901901245\n",
      "Iter #34000:  Learning rate = 0.000864:   Batch Loss = 0.144988, Accuracy = 0.9765625\n",
      "PERFORMANCE ON TEST SET:             Batch Loss = 0.125605046749115, Accuracy = 0.9768735766410828\n",
      "Iter #35000:  Learning rate = 0.000830:   Batch Loss = 0.077536, Accuracy = 1.0\n",
      "PERFORMANCE ON TEST SET:             Batch Loss = 0.11837606132030487, Accuracy = 0.9800034761428833\n",
      "Iter #36000:  Learning rate = 0.000765:   Batch Loss = 0.130651, Accuracy = 0.9765625\n",
      "PERFORMANCE ON TEST SET:             Batch Loss = 0.13024282455444336, Accuracy = 0.976699709892273\n",
      "Iter #37000:  Learning rate = 0.000734:   Batch Loss = 0.137961, Accuracy = 0.9765625\n",
      "PERFORMANCE ON TEST SET:             Batch Loss = 0.1539948284626007, Accuracy = 0.9664406180381775\n",
      "Iter #38000:  Learning rate = 0.000705:   Batch Loss = 0.082728, Accuracy = 0.9921875\n",
      "PERFORMANCE ON TEST SET:             Batch Loss = 0.1116919293999672, Accuracy = 0.9840027689933777\n",
      "Iter #39000:  Learning rate = 0.000676:   Batch Loss = 0.073007, Accuracy = 1.0\n",
      "PERFORMANCE ON TEST SET:             Batch Loss = 0.11815249174833298, Accuracy = 0.9810467958450317\n",
      "Iter #40000:  Learning rate = 0.000623:   Batch Loss = 0.075987, Accuracy = 0.9921875\n",
      "PERFORMANCE ON TEST SET:             Batch Loss = 0.1420232504606247, Accuracy = 0.9742653369903564\n",
      "Optimization Finished!\n",
      "TOTAL TIME for TRAINING: 1199.4253504276276\n"
     ]
    },
    {
     "data": {
      "text/plain": [
       "'RNN_Model_Trained'"
      ]
     },
     "execution_count": 10,
     "metadata": {
      "tags": []
     },
     "output_type": "execute_result"
    }
   ],
   "source": [
    "test_losses = []\n",
    "test_accuracies = []\n",
    "train_losses = []\n",
    "train_accuracies = []\n",
    "sess = tf.InteractiveSession(config=tf.ConfigProto(log_device_placement=True))\n",
    "init = tf.global_variables_initializer()\n",
    "sess.run(init)\n",
    "\n",
    "# Save the model\n",
    "saver = tf.train.Saver()\n",
    "\n",
    "# Perform Training steps with \"batch_size\" amount of data at each loop. \n",
    "# Elements of each batch are chosen randomly, without replacement, from X_train\n",
    "step = 0\n",
    "time_start = time.time()\n",
    "\n",
    "while step <= training_iters:\n",
    "    batch_xs, raw_labels = extract_batch_size(X_train, y_train, batch_size)\n",
    "    batch_ys = one_hot(raw_labels)\n",
    "    # Check that encoded output is same length as num_classes, if not, pad it \n",
    "    if len(batch_ys[0]) < n_classes:\n",
    "        temp_ys = np.zeros((batch_size, n_classes))\n",
    "        temp_ys[:batch_ys.shape[0],:batch_ys.shape[1]] = batch_ys\n",
    "        batch_ys = temp_ys\n",
    "\n",
    "    # Fit training using batch data\n",
    "    _, loss, acc = sess.run([optimizer, cost, accuracy], feed_dict={x: batch_xs, y: batch_ys})\n",
    "    train_losses.append(loss)\n",
    "    train_accuracies.append(acc)\n",
    "    \n",
    "    # Evaluate network only at some steps for faster training: \n",
    "    if step % display_iter == 0:\n",
    "        # To not spam console, show training accuracy/loss in this \"if\"\n",
    "        print(\"Iter #\" + str(step) + \\\n",
    "              \":  Learning rate = \" + \"{:.6f}\".format(sess.run(learning_rate)) + \\\n",
    "              \":   Batch Loss = \" + \"{:.6f}\".format(loss) + \\\n",
    "              \", Accuracy = {}\".format(acc))\n",
    "        \n",
    "        # Evaluation on the test set (no learning made here - just evaluation for diagnosis)\n",
    "        loss, acc = sess.run([cost, accuracy], feed_dict={x: X_test, y: one_hot(y_test)})\n",
    "        test_losses.append(loss)\n",
    "        test_accuracies.append(acc)\n",
    "        print(\"PERFORMANCE ON TEST SET:             \" + \\\n",
    "              \"Batch Loss = {}\".format(loss) + \\\n",
    "              \", Accuracy = {}\".format(acc))\n",
    "\n",
    "    step += 1\n",
    "\n",
    "print(\"Optimization Finished!\")\n",
    "time_stop = time.time()\n",
    "print(\"TOTAL TIME for TRAINING: {}\".format(time_stop - time_start))\n",
    "saver.save(sess, 'RNN_Model_Trained')"
   ]
  },
  {
   "cell_type": "code",
   "execution_count": 11,
   "metadata": {
    "colab": {
     "base_uri": "https://localhost:8080/",
     "height": 35
    },
    "colab_type": "code",
    "id": "u5yNwpWg6HfC",
    "outputId": "0342a9b7-3fd6-4d60-9ab7-769b77a7ac9a"
   },
   "outputs": [
    {
     "name": "stdout",
     "output_type": "stream",
     "text": [
      "FINAL RESULT:Batch Loss = 0.1420232504606247, Accuracy = 0.9742653369903564\n"
     ]
    }
   ],
   "source": [
    "# Accuracy for test data\n",
    "one_hot_predictions, accuracy, final_loss = sess.run([pred, accuracy, cost], feed_dict={x: X_test, y: one_hot(y_test)})\n",
    "\n",
    "test_losses.append(final_loss)\n",
    "test_accuracies.append(accuracy)\n",
    "\n",
    "print(\"FINAL RESULT:\" + \"Batch Loss = {}\".format(final_loss) + \", Accuracy = {}\".format(accuracy))"
   ]
  },
  {
   "cell_type": "markdown",
   "metadata": {
    "colab_type": "text",
    "id": "XhEUDn9PP3J1"
   },
   "source": [
    "# Plot the results"
   ]
  },
  {
   "cell_type": "code",
   "execution_count": 12,
   "metadata": {
    "colab": {
     "base_uri": "https://localhost:8080/",
     "height": 1000
    },
    "colab_type": "code",
    "id": "LbrIwmpCP4ny",
    "outputId": "555ead5d-3957-4bb3-9b7e-f96c1d3e7a83"
   },
   "outputs": [
    {
     "name": "stdout",
     "output_type": "stream",
     "text": [
      "42\n",
      "40001\n"
     ]
    },
    {
     "data": {
      "image/png": "[encoded data removed]",
      "text/plain": [
       "<Figure size 864x864 with 1 Axes>"
      ]
     },
     "metadata": {
      "tags": []
     },
     "output_type": "display_data"
    },
    {
     "name": "stdout",
     "output_type": "stream",
     "text": [
      "Testing Accuracy: 97.42653369903564%\n",
      "\n",
      "Precision: 97.56925322603688%\n",
      "Recall: 97.42653451573639%\n",
      "f1_score: 97.45354017659108%\n",
      "\n",
      "Confusion Matrix:\n",
      "Created using test set of 5751 datapoints, normalised to % of each class in the test dataset\n"
     ]
    },
    {
     "data": {
      "image/png": "[encoded data removed]",
      "text/plain": [
       "<Figure size 864x864 with 2 Axes>"
      ]
     },
     "metadata": {
      "tags": []
     },
     "output_type": "display_data"
    }
   ],
   "source": [
    "width = 12\n",
    "height = 12\n",
    "plt.figure(figsize=(width, height))\n",
    "\n",
    "indep_train_axis = np.array(range(1, (len(train_losses)+1)))\n",
    "plt.plot(indep_train_axis, np.array(train_accuracies), \"g--\", label=\"Train accuracies\")\n",
    "\n",
    "indep_test_axis = np.append(np.array(range(1, len(test_losses)*int(display_iter), int(display_iter))[:-1]),[training_iters])\n",
    "\n",
    "plt.plot(indep_test_axis, np.array(test_accuracies), \"b-\", linewidth=2.0, label=\"Test accuracies\")\n",
    "print(len(test_accuracies))\n",
    "print(len(train_accuracies))\n",
    "\n",
    "plt.title(\"Training session's Accuracy over Iterations\")\n",
    "plt.legend(loc='lower right', shadow=True)\n",
    "plt.ylabel('Training Accuracy')\n",
    "plt.xlabel('Training Iteration')\n",
    "plt.savefig('Acc.jpeg')\n",
    "plt.show()\n",
    "\n",
    "# Results\n",
    "\n",
    "predictions = one_hot_predictions.argmax(1)\n",
    "\n",
    "print(\"Testing Accuracy: {}%\".format(100*accuracy))\n",
    "\n",
    "print(\"\")\n",
    "print(\"Precision: {}%\".format(100*metrics.precision_score(y_test, predictions, average=\"weighted\")))\n",
    "print(\"Recall: {}%\".format(100*metrics.recall_score(y_test, predictions, average=\"weighted\")))\n",
    "print(\"f1_score: {}%\".format(100*metrics.f1_score(y_test, predictions, average=\"weighted\")))\n",
    "\n",
    "print(\"\")\n",
    "print(\"Confusion Matrix:\")\n",
    "print(\"Created using test set of {} datapoints, normalised to % of each class in the test dataset\".format(len(y_test)))\n",
    "confusion_matrix = metrics.confusion_matrix(y_test, predictions)\n",
    "\n",
    "\n",
    "normalised_confusion_matrix = np.array(confusion_matrix, dtype=np.float32)/np.sum(confusion_matrix)*100\n",
    "\n",
    "\n",
    "# Plot Results: \n",
    "width = 12\n",
    "height = 12\n",
    "plt.figure(figsize=(width, height))\n",
    "plt.imshow(\n",
    "    normalised_confusion_matrix, \n",
    "    interpolation='nearest', \n",
    "    cmap=plt.cm.Blues\n",
    ")\n",
    "plt.title(\"Confusion matrix \\n(normalised to % of total test data)\")\n",
    "plt.colorbar()\n",
    "tick_marks = np.arange(n_classes)\n",
    "plt.xticks(tick_marks, LABELS, rotation=90)\n",
    "plt.yticks(tick_marks, LABELS)\n",
    "plt.tight_layout()\n",
    "plt.ylabel('True label')\n",
    "plt.xlabel('Predicted label')\n",
    "plt.savefig('Confusion.jpeg')\n",
    "plt.show()"
   ]
  },
  {
   "cell_type": "markdown",
   "metadata": {
    "colab_type": "text",
    "id": "8GDHLaiCcQjm"
   },
   "source": [
    "# Testing"
   ]
  },
  {
   "cell_type": "code",
   "execution_count": 13,
   "metadata": {
    "colab": {
     "base_uri": "https://localhost:8080/",
     "height": 283
    },
    "colab_type": "code",
    "id": "7y-2EB2uc0QW",
    "outputId": "abb84467-85b1-428f-f658-bcf9cf3e540b"
   },
   "outputs": [
    {
     "data": {
      "image/png": "[encoded data removed]",
      "text/plain": [
       "<Figure size 432x288 with 1 Axes>"
      ]
     },
     "metadata": {
      "tags": []
     },
     "output_type": "display_data"
    }
   ],
   "source": [
    "# Video 1\n",
    "test_vid = data_path + 'datapoint_1.txt'\n",
    "test_vid = load_X(test_vid)\n",
    "one_hot_predictions = sess.run([pred], feed_dict={x: test_vid})\n",
    "timestamp = np.loadtxt(data_path + 'timestamp1.txt')\n",
    "\n",
    "v = np.squeeze(np.array(one_hot_predictions))\n",
    "y = np.argmax(np.squeeze(v), axis=1)\n",
    "temp = np.concatenate((timestamp.reshape((-1, 1)), y.reshape((-1, 1))), axis=1)\n",
    "action = [\"Detect Clapping Hands\"]\n",
    "with open('video1.json', 'w') as json_file:\n",
    "  json.dump(action, json_file)\n",
    "  json.dump(LABELS, json_file)\n",
    "  json.dump(temp.T.tolist(), json_file)\n",
    "\n",
    "plt.plot(timestamp, y, '.')\n",
    "plt.xlabel(r'Time stamps $\\rightarrow$')\n",
    "plt.ylabel(r'Labels $\\rightarrow$')\n",
    "plt.savefig('Test1.jpeg')"
   ]
  },
  {
   "cell_type": "code",
   "execution_count": 14,
   "metadata": {
    "colab": {
     "base_uri": "https://localhost:8080/",
     "height": 283
    },
    "colab_type": "code",
    "id": "NDJFRb4Dh7-T",
    "outputId": "949b1d74-a285-4876-8037-5f9ec0dc2818"
   },
   "outputs": [
    {
     "data": {
      "image/png": "[encoded data removed]",
      "text/plain": [
       "<Figure size 432x288 with 1 Axes>"
      ]
     },
     "metadata": {
      "tags": []
     },
     "output_type": "display_data"
    }
   ],
   "source": [
    "# Video 2\n",
    "test_vid = data_path + 'datapoint_2.txt'\n",
    "test_vid = load_X(test_vid)\n",
    "one_hot_predictions = sess.run([pred], feed_dict={x: test_vid})\n",
    "timestamp = np.loadtxt(data_path + 'timestamp2.txt')\n",
    "\n",
    "v = np.squeeze(np.array(one_hot_predictions))\n",
    "y = np.argmax(np.squeeze(v), axis=1)\n",
    "temp = np.concatenate((timestamp.reshape((-1, 1)), y.reshape((-1, 1))), axis=1)\n",
    "action = [\"Detect Clapping Hands\"]\n",
    "with open('video2.json', 'w') as json_file:\n",
    "  json.dump(action, json_file)\n",
    "  json.dump(LABELS, json_file)\n",
    "  json.dump(temp.T.tolist(), json_file)\n",
    "\n",
    "plt.plot(timestamp, y, '.')\n",
    "plt.xlabel(r'Time stamps $\\rightarrow$')\n",
    "plt.ylabel(r'Labels $\\rightarrow$')\n",
    "plt.savefig('Test2.jpeg')"
   ]
  },
  {
   "cell_type": "code",
   "execution_count": 15,
   "metadata": {
    "colab": {
     "base_uri": "https://localhost:8080/",
     "height": 283
    },
    "colab_type": "code",
    "id": "TNUw5EaDh8Y_",
    "outputId": "468127c6-ba7e-41ba-dd34-27b26b3b84be"
   },
   "outputs": [
    {
     "data": {
      "image/png": "[encoded data removed]",
      "text/plain": [
       "<Figure size 432x288 with 1 Axes>"
      ]
     },
     "metadata": {
      "tags": []
     },
     "output_type": "display_data"
    }
   ],
   "source": [
    "# Video 3\n",
    "test_vid = data_path + 'datapoint_3.txt'\n",
    "test_vid = load_X(test_vid)\n",
    "one_hot_predictions = sess.run([pred], feed_dict={x: test_vid})\n",
    "timestamp = np.loadtxt(data_path + 'timestamp3.txt')\n",
    "\n",
    "v = np.squeeze(np.array(one_hot_predictions))\n",
    "y = np.argmax(np.squeeze(v), axis=1)\n",
    "temp = np.concatenate((timestamp.reshape((-1, 1)), y.reshape((-1, 1))), axis=1)\n",
    "action = [\"Detect Clapping Hands\"]\n",
    "with open('video3.json', 'w') as json_file:\n",
    "  json.dump(action, json_file)\n",
    "  json.dump(LABELS, json_file)\n",
    "  json.dump(temp.T.tolist(), json_file)\n",
    "\n",
    "plt.plot(timestamp, y, '.')\n",
    "plt.xlabel(r'Time stamps $\\rightarrow$')\n",
    "plt.ylabel(r'Labels $\\rightarrow$')\n",
    "plt.savefig('Test3.jpeg')"
   ]
  },
  {
   "cell_type": "code",
   "execution_count": 16,
   "metadata": {
    "colab": {
     "base_uri": "https://localhost:8080/",
     "height": 283
    },
    "colab_type": "code",
    "id": "k1yH-PS2h80W",
    "outputId": "84fecb6a-4d00-40b7-8657-daf8cad48460"
   },
   "outputs": [
    {
     "data": {
      "image/png": "[encoded data removed]",
      "text/plain": [
       "<Figure size 432x288 with 1 Axes>"
      ]
     },
     "metadata": {
      "tags": []
     },
     "output_type": "display_data"
    }
   ],
   "source": [
    "# Video 4\n",
    "test_vid = data_path + 'datapoint_4.txt'\n",
    "test_vid = load_X(test_vid)\n",
    "one_hot_predictions = sess.run([pred], feed_dict={x: test_vid})\n",
    "timestamp = np.loadtxt(data_path + 'timestamp4.txt')\n",
    "\n",
    "v = np.squeeze(np.array(one_hot_predictions))\n",
    "y = np.argmax(np.squeeze(v), axis=1)\n",
    "temp = np.concatenate((timestamp.reshape((-1, 1)), y.reshape((-1, 1))), axis=1)\n",
    "action = [\"Detect Clapping Hands\"]\n",
    "with open('video4.json', 'w') as json_file:\n",
    "  json.dump(action, json_file)\n",
    "  json.dump(LABELS, json_file)\n",
    "  json.dump(temp.T.tolist(), json_file)\n",
    "\n",
    "plt.plot(timestamp, y, '.')\n",
    "plt.xlabel(r'Time stamps $\\rightarrow$')\n",
    "plt.ylabel(r'Labels $\\rightarrow$')\n",
    "plt.savefig('Test4.jpeg')"
   ]
  },
  {
   "cell_type": "code",
   "execution_count": 17,
   "metadata": {
    "colab": {
     "base_uri": "https://localhost:8080/",
     "height": 283
    },
    "colab_type": "code",
    "id": "013jIIdvh9SA",
    "outputId": "2e75e405-272d-4a99-8af5-53ab69c7c7ac"
   },
   "outputs": [
    {
     "data": {
      "image/png": "[encoded data removed]",
      "text/plain": [
       "<Figure size 432x288 with 1 Axes>"
      ]
     },
     "metadata": {
      "tags": []
     },
     "output_type": "display_data"
    }
   ],
   "source": [
    "# Video 5\n",
    "test_vid = data_path + 'datapoint_5.txt'\n",
    "test_vid = load_X(test_vid)\n",
    "one_hot_predictions = sess.run([pred], feed_dict={x: test_vid})\n",
    "timestamp = np.loadtxt(data_path + 'timestamp5.txt')\n",
    "\n",
    "v = np.squeeze(np.array(one_hot_predictions))\n",
    "y = np.argmax(np.squeeze(v), axis=1)\n",
    "temp = np.concatenate((timestamp.reshape((-1, 1)), y.reshape((-1, 1))), axis=1)\n",
    "action = [\"Detect Clapping Hands\"]\n",
    "with open('video5.json', 'w') as json_file:\n",
    "  json.dump(action, json_file)\n",
    "  json.dump(LABELS, json_file)\n",
    "  json.dump(temp.T.tolist(), json_file)\n",
    "\n",
    "plt.plot(timestamp, y, '.')\n",
    "plt.xlabel(r'Time stamps $\\rightarrow$')\n",
    "plt.ylabel(r'Labels $\\rightarrow$')\n",
    "plt.savefig('Test5.jpeg')"
   ]
  }
 ],
 "metadata": {
  "accelerator": "TPU",
  "colab": {
   "collapsed_sections": [],
   "machine_shape": "hm",
   "name": "RNN Human Activity Recognition",
   "provenance": []
  },
  "kernelspec": {
   "display_name": "Python 3",
   "language": "python",
   "name": "python3"
  },
  "language_info": {
   "codemirror_mode": {
    "name": "ipython",
    "version": 3
   },
   "file_extension": ".py",
   "mimetype": "text/x-python",
   "name": "python",
   "nbconvert_exporter": "python",
   "pygments_lexer": "ipython3",
   "version": "3.7.3"
  }
 },
 "nbformat": 4,
 "nbformat_minor": 1
}
