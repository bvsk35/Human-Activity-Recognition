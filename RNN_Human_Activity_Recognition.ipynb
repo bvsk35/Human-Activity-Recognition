{
  "nbformat": 4,
  "nbformat_minor": 0,
  "metadata": {
    "colab": {
      "name": "RNN Human Activity Recognition",
      "provenance": [],
      "collapsed_sections": [],
      "machine_shape": "hm"
    },
    "kernelspec": {
      "name": "python3",
      "display_name": "Python 3"
    },
    "accelerator": "TPU"
  },
  "cells": [
    {
      "cell_type": "markdown",
      "metadata": {
        "id": "OFyLuAx3-wky",
        "colab_type": "text"
      },
      "source": [
        "# RNN for Human Activity Recognition\n",
        "# Import required libraries"
      ]
    },
    {
      "cell_type": "code",
      "metadata": {
        "id": "FWTDDWDE92gm",
        "colab_type": "code",
        "colab": {}
      },
      "source": [
        "import numpy as np\n",
        "import matplotlib\n",
        "import matplotlib.pyplot as plt\n",
        "from sklearn import metrics\n",
        "import random\n",
        "from random import randint\n",
        "import time\n",
        "import os\n",
        "import json"
      ],
      "execution_count": 0,
      "outputs": []
    },
    {
      "cell_type": "code",
      "metadata": {
        "id": "UqJV1rZJ-ddb",
        "colab_type": "code",
        "outputId": "1ca7baf8-c57c-4d15-e7db-2df094d7d709",
        "colab": {
          "base_uri": "https://localhost:8080/",
          "height": 52
        }
      },
      "source": [
        "%tensorflow_version 1.x\n",
        "import tensorflow as tf\n",
        "print(tf.__version__)"
      ],
      "execution_count": 2,
      "outputs": [
        {
          "output_type": "stream",
          "text": [
            "TensorFlow 1.x selected.\n",
            "1.15.2\n"
          ],
          "name": "stdout"
        }
      ]
    },
    {
      "cell_type": "markdown",
      "metadata": {
        "id": "gdoxtwqbYeJp",
        "colab_type": "text"
      },
      "source": [
        "# Mount Google Drive"
      ]
    },
    {
      "cell_type": "code",
      "metadata": {
        "id": "EAerYs2kYjlL",
        "colab_type": "code",
        "outputId": "389728ed-08cf-4627-e46a-5339f1a18817",
        "colab": {
          "base_uri": "https://localhost:8080/",
          "height": 124
        }
      },
      "source": [
        "from google.colab import drive\n",
        "drive.mount('/content/gdrive')"
      ],
      "execution_count": 3,
      "outputs": [
        {
          "output_type": "stream",
          "text": [
            "Go to this URL in a browser: https://accounts.google.com/o/oauth2/auth?client_id=947318989803-6bn6qk8qdgf4n4g3pfee6491hc0brc4i.apps.googleusercontent.com&redirect_uri=urn%3aietf%3awg%3aoauth%3a2.0%3aoob&response_type=code&scope=email%20https%3a%2f%2fwww.googleapis.com%2fauth%2fdocs.test%20https%3a%2f%2fwww.googleapis.com%2fauth%2fdrive%20https%3a%2f%2fwww.googleapis.com%2fauth%2fdrive.photos.readonly%20https%3a%2f%2fwww.googleapis.com%2fauth%2fpeopleapi.readonly\n",
            "\n",
            "Enter your authorization code:\n",
            "··········\n",
            "Mounted at /content/gdrive\n"
          ],
          "name": "stdout"
        }
      ]
    },
    {
      "cell_type": "code",
      "metadata": {
        "id": "kpnCeV5mY-rV",
        "colab_type": "code",
        "colab": {}
      },
      "source": [
        "data_path = '/content/gdrive/My Drive/Deep Learning/MHAD/'"
      ],
      "execution_count": 0,
      "outputs": []
    },
    {
      "cell_type": "markdown",
      "metadata": {
        "id": "myGVNJf4AfN5",
        "colab_type": "text"
      },
      "source": [
        "# Load Dataset"
      ]
    },
    {
      "cell_type": "code",
      "metadata": {
        "id": "fikxm3ET-n6K",
        "colab_type": "code",
        "colab": {}
      },
      "source": [
        "# Useful Constants\n",
        "# Output classes to learn how to classify\n",
        "LABELS = [    \n",
        "    \"JUMPING\",\n",
        "    \"JUMPING_JACKS\",\n",
        "    \"BOXING\",\n",
        "    \"WAVING_2HANDS\",\n",
        "    \"WAVING_1HAND\",\n",
        "    \"CLAPPING_HANDS\"\n",
        "] \n",
        "\n",
        "X_train_path = data_path + \"X_train.txt\"\n",
        "X_test_path = data_path + \"X_test.txt\"\n",
        "\n",
        "y_train_path = data_path + \"Y_train.txt\"\n",
        "y_test_path = data_path + \"Y_test.txt\"\n",
        "\n",
        "# No. of timesteps per series\n",
        "n_steps = 32 "
      ],
      "execution_count": 0,
      "outputs": []
    },
    {
      "cell_type": "code",
      "metadata": {
        "id": "MP6a9yl_Bu9R",
        "colab_type": "code",
        "colab": {}
      },
      "source": [
        "# Load the Inputs\n",
        "def load_X(X_path):\n",
        "    file = open(X_path, 'r')\n",
        "    X_ = np.array([elem for elem in [row.split(',') for row in file]], dtype=np.float32)\n",
        "    file.close()\n",
        "    blocks = int(len(X_) / n_steps)\n",
        "    X_ = np.array(np.split(X_,blocks))\n",
        "    return X_ \n",
        "\n",
        "# Load the Labels\n",
        "def load_y(y_path):\n",
        "    file = open(y_path, 'r')\n",
        "    y_ = np.array([elem for elem in [row.replace('  ', ' ').strip().split(' ') for row in file]], dtype=np.int32)\n",
        "    file.close()\n",
        "    # for 0-based indexing \n",
        "    return y_ - 1\n",
        "\n",
        "X_train = load_X(X_train_path)\n",
        "X_test = load_X(X_test_path)\n",
        "\n",
        "y_train = load_y(y_train_path)\n",
        "y_test = load_y(y_test_path)"
      ],
      "execution_count": 0,
      "outputs": []
    },
    {
      "cell_type": "markdown",
      "metadata": {
        "id": "gqyCerr8bN2Q",
        "colab_type": "text"
      },
      "source": [
        "# Set Parameters"
      ]
    },
    {
      "cell_type": "code",
      "metadata": {
        "id": "QURM3UQUbRN6",
        "colab_type": "code",
        "colab": {}
      },
      "source": [
        "# Input Data \n",
        "training_data_count = len(X_train) # No. of training inputs 22625\n",
        "test_data_count = len(X_test)  # No. of test inputs 5751\n",
        "n_input = len(X_train[0][0])  # No. of input parameters per timestep\n",
        "\n",
        "n_hidden = 34 # Hidden layer num of features\n",
        "n_classes = 6 # No. of output classes/labels\n",
        "\n",
        "# Learning rate (exponential) decay calculated as \n",
        "# decayed_learning_rate = learning_rate * decay_rate ^ (global_step / decay_steps)\n",
        "decaying_learning_rate = True\n",
        "learning_rate = 0.0025 # Used if decaying_learning_rate set to False\n",
        "init_learning_rate = 0.005\n",
        "decay_rate = 0.96 # The base of the exponential in the decay\n",
        "decay_steps = 100000 # Used in decay every 60000 steps with a base of 0.96\n",
        "\n",
        "global_step = tf.Variable(0, trainable=False)\n",
        "lambda_loss_amount = 0.0015\n",
        "\n",
        "training_iters = 4.0e4  # 0.05 million epochs of training\n",
        "batch_size = 128\n",
        "display_iter = 1e3  # To show test set accuracy during training"
      ],
      "execution_count": 0,
      "outputs": []
    },
    {
      "cell_type": "markdown",
      "metadata": {
        "id": "GzpsovnmfkRm",
        "colab_type": "text"
      },
      "source": [
        "# Utility functions"
      ]
    },
    {
      "cell_type": "code",
      "metadata": {
        "id": "Z_YcsT1jfnmp",
        "colab_type": "code",
        "colab": {}
      },
      "source": [
        "def LSTM_RNN(_X, _weights, _biases):\n",
        "    _X = tf.transpose(_X, [1, 0, 2])  # permute n_steps and batch_size\n",
        "    _X = tf.reshape(_X, [-1, n_input])   \n",
        "    # ReLU activation function\n",
        "    _X = tf.nn.relu(tf.matmul(_X, _weights['hidden']) + _biases['hidden'])\n",
        "    # Split data because rnn cell needs a list of inputs for the RNN inner loop\n",
        "    _X = tf.split(_X, n_steps, 0) \n",
        "\n",
        "    # Define two stacked LSTM cells (two recurrent layers deep) with tensorflow\n",
        "    # With dropout prob of 0.5 \n",
        "    lstm_cell = tf.contrib.rnn.BasicLSTMCell(n_hidden, forget_bias=1.0, state_is_tuple=True)\n",
        "    lstm_cell = tf.contrib.rnn.DropoutWrapper(lstm_cell, output_keep_prob=0.5)\n",
        "    lstm_cells = tf.contrib.rnn.MultiRNNCell([lstm_cell] * 2, state_is_tuple=True)\n",
        "    outputs, states = tf.contrib.rnn.static_rnn(lstm_cells, _X, dtype=tf.float32)\n",
        "    outputs = tf.contrib.layers.batch_norm(outputs)\n",
        "\n",
        "    lstm_last_output = outputs[-1]\n",
        "    \n",
        "    # Linear activation\n",
        "    # return tf.add(tf.matmul(lstm_last_output, _weights['out']), _biases['out'], name='Pred')\n",
        "    pred = tf.matmul(lstm_last_output, _weights['out']) + _biases['out']\n",
        "    return pred\n",
        "\n",
        "\n",
        "def extract_batch_size(_train, _labels, batch_size):\n",
        "    # Fetch a \"batch_size\" amount of data and labels from training data.   \n",
        "    shape = list(_train.shape)\n",
        "    shape[0] = batch_size\n",
        "    batch_s = np.empty(shape)\n",
        "    batch_labels = np.empty((batch_size,1)) \n",
        "\n",
        "    idx = random.sample(range(0, len(_train)), batch_size)\n",
        "    batch_s = _train[idx]\n",
        "    batch_labels = _labels[idx]\n",
        "    return batch_s, batch_labels\n",
        "\n",
        "\n",
        "def one_hot(y_):\n",
        "    # One hot encoding of the network outputs\n",
        "    y_ = y_.reshape(len(y_))\n",
        "    n_values = int(np.max(y_)) + 1\n",
        "    return np.eye(n_values)[np.array(y_, dtype=np.int32)]  # Returns FLOATS"
      ],
      "execution_count": 0,
      "outputs": []
    },
    {
      "cell_type": "markdown",
      "metadata": {
        "id": "QE8U9NmGrtnD",
        "colab_type": "text"
      },
      "source": [
        "# Build the RNN model\n"
      ]
    },
    {
      "cell_type": "code",
      "metadata": {
        "id": "Fzrif0x4r1-G",
        "colab_type": "code",
        "outputId": "fe57bdc8-3743-4294-fc21-a1024fb2bbf9",
        "colab": {
          "base_uri": "https://localhost:8080/",
          "height": 644
        }
      },
      "source": [
        "# Graph input/output\n",
        "x = tf.placeholder(tf.float32, [None, n_steps, n_input], name='x')\n",
        "y = tf.placeholder(tf.float32, [None, n_classes], name='y')\n",
        "\n",
        "# Graph weights\n",
        "weights = {\n",
        "    'hidden': tf.Variable(tf.random_normal([n_input, n_hidden]), name='W1'), \n",
        "    'out': tf.Variable(tf.random_normal([n_hidden, n_classes], mean=1.0), name='W2')\n",
        "}\n",
        "biases = {\n",
        "    'hidden': tf.Variable(tf.random_normal([n_hidden]), name='b1'),\n",
        "    'out': tf.Variable(tf.random_normal([n_classes]), name='b2')\n",
        "}\n",
        "\n",
        "pred = LSTM_RNN(x, weights, biases)\n",
        "\n",
        "# Loss, optimizer and evaluation\n",
        "l2 = lambda_loss_amount * sum(\n",
        "    tf.nn.l2_loss(tf_var) for tf_var in tf.trainable_variables()\n",
        ") # L2 regularization to prevent overfitting\n",
        "cost = tf.reduce_mean(tf.nn.softmax_cross_entropy_with_logits(labels=y, logits=pred)) + l2 # Softmax loss\n",
        "if decaying_learning_rate:\n",
        "    learning_rate = tf.train.exponential_decay(init_learning_rate, global_step*batch_size, decay_steps, decay_rate, staircase=True)\n",
        "\n",
        "optimizer = tf.train.AdamOptimizer(learning_rate=learning_rate).minimize(cost,global_step=global_step) # Adam Optimizer\n",
        "\n",
        "correct_pred = tf.equal(tf.argmax(pred,1), tf.argmax(y,1))\n",
        "accuracy = tf.reduce_mean(tf.cast(correct_pred, tf.float32), name='Accuracy')"
      ],
      "execution_count": 9,
      "outputs": [
        {
          "output_type": "stream",
          "text": [
            "WARNING:tensorflow:\n",
            "The TensorFlow contrib module will not be included in TensorFlow 2.0.\n",
            "For more information, please see:\n",
            "  * https://github.com/tensorflow/community/blob/master/rfcs/20180907-contrib-sunset.md\n",
            "  * https://github.com/tensorflow/addons\n",
            "  * https://github.com/tensorflow/io (for I/O related ops)\n",
            "If you depend on functionality not listed there, please file an issue.\n",
            "\n",
            "WARNING:tensorflow:From <ipython-input-8-795b26bbc6b9>:11: BasicLSTMCell.__init__ (from tensorflow.python.ops.rnn_cell_impl) is deprecated and will be removed in a future version.\n",
            "Instructions for updating:\n",
            "This class is equivalent as tf.keras.layers.LSTMCell, and will be replaced by that in Tensorflow 2.0.\n",
            "WARNING:tensorflow:From <ipython-input-8-795b26bbc6b9>:13: MultiRNNCell.__init__ (from tensorflow.python.ops.rnn_cell_impl) is deprecated and will be removed in a future version.\n",
            "Instructions for updating:\n",
            "This class is equivalent as tf.keras.layers.StackedRNNCells, and will be replaced by that in Tensorflow 2.0.\n",
            "WARNING:tensorflow:At least two cells provided to MultiRNNCell are the same object and will share weights.\n",
            "WARNING:tensorflow:From <ipython-input-8-795b26bbc6b9>:14: static_rnn (from tensorflow.python.ops.rnn) is deprecated and will be removed in a future version.\n",
            "Instructions for updating:\n",
            "Please use `keras.layers.RNN(cell, unroll=True)`, which is equivalent to this API\n",
            "WARNING:tensorflow:From /tensorflow-1.15.2/python3.6/tensorflow_core/python/ops/rnn_cell_impl.py:735: Layer.add_variable (from tensorflow.python.keras.engine.base_layer) is deprecated and will be removed in a future version.\n",
            "Instructions for updating:\n",
            "Please use `layer.add_weight` method instead.\n",
            "WARNING:tensorflow:From /tensorflow-1.15.2/python3.6/tensorflow_core/python/ops/rnn_cell_impl.py:739: calling Zeros.__init__ (from tensorflow.python.ops.init_ops) with dtype is deprecated and will be removed in a future version.\n",
            "Instructions for updating:\n",
            "Call initializer instance with the dtype argument instead of passing it to the constructor\n",
            "WARNING:tensorflow:From /tensorflow-1.15.2/python3.6/tensorflow_core/contrib/layers/python/layers/layers.py:650: Layer.apply (from tensorflow.python.keras.engine.base_layer) is deprecated and will be removed in a future version.\n",
            "Instructions for updating:\n",
            "Please use `layer.__call__` method instead.\n",
            "WARNING:tensorflow:From <ipython-input-9-033c242e519c>:20: softmax_cross_entropy_with_logits (from tensorflow.python.ops.nn_ops) is deprecated and will be removed in a future version.\n",
            "Instructions for updating:\n",
            "\n",
            "Future major versions of TensorFlow will allow gradients to flow\n",
            "into the labels input on backprop by default.\n",
            "\n",
            "See `tf.nn.softmax_cross_entropy_with_logits_v2`.\n",
            "\n"
          ],
          "name": "stdout"
        }
      ]
    },
    {
      "cell_type": "markdown",
      "metadata": {
        "id": "Q9lkdpAfvNME",
        "colab_type": "text"
      },
      "source": [
        "# Train the model"
      ]
    },
    {
      "cell_type": "code",
      "metadata": {
        "id": "qV81GLkSvNlb",
        "colab_type": "code",
        "outputId": "f2bb12ca-d8ab-4a3f-ce66-80ec7e48d7c1",
        "colab": {
          "base_uri": "https://localhost:8080/",
          "height": 1000
        }
      },
      "source": [
        "test_losses = []\n",
        "test_accuracies = []\n",
        "train_losses = []\n",
        "train_accuracies = []\n",
        "sess = tf.InteractiveSession(config=tf.ConfigProto(log_device_placement=True))\n",
        "init = tf.global_variables_initializer()\n",
        "sess.run(init)\n",
        "\n",
        "# Save the model\n",
        "saver = tf.train.Saver()\n",
        "\n",
        "# Perform Training steps with \"batch_size\" amount of data at each loop. \n",
        "# Elements of each batch are chosen randomly, without replacement, from X_train\n",
        "step = 0\n",
        "time_start = time.time()\n",
        "\n",
        "while step <= training_iters:\n",
        "    batch_xs, raw_labels = extract_batch_size(X_train, y_train, batch_size)\n",
        "    batch_ys = one_hot(raw_labels)\n",
        "    # Check that encoded output is same length as num_classes, if not, pad it \n",
        "    if len(batch_ys[0]) < n_classes:\n",
        "        temp_ys = np.zeros((batch_size, n_classes))\n",
        "        temp_ys[:batch_ys.shape[0],:batch_ys.shape[1]] = batch_ys\n",
        "        batch_ys = temp_ys\n",
        "\n",
        "    # Fit training using batch data\n",
        "    _, loss, acc = sess.run([optimizer, cost, accuracy], feed_dict={x: batch_xs, y: batch_ys})\n",
        "    train_losses.append(loss)\n",
        "    train_accuracies.append(acc)\n",
        "    \n",
        "    # Evaluate network only at some steps for faster training: \n",
        "    if step % display_iter == 0:\n",
        "        # To not spam console, show training accuracy/loss in this \"if\"\n",
        "        print(\"Iter #\" + str(step) + \\\n",
        "              \":  Learning rate = \" + \"{:.6f}\".format(sess.run(learning_rate)) + \\\n",
        "              \":   Batch Loss = \" + \"{:.6f}\".format(loss) + \\\n",
        "              \", Accuracy = {}\".format(acc))\n",
        "        \n",
        "        # Evaluation on the test set (no learning made here - just evaluation for diagnosis)\n",
        "        loss, acc = sess.run([cost, accuracy], feed_dict={x: X_test, y: one_hot(y_test)})\n",
        "        test_losses.append(loss)\n",
        "        test_accuracies.append(acc)\n",
        "        print(\"PERFORMANCE ON TEST SET:             \" + \\\n",
        "              \"Batch Loss = {}\".format(loss) + \\\n",
        "              \", Accuracy = {}\".format(acc))\n",
        "\n",
        "    step += 1\n",
        "\n",
        "print(\"Optimization Finished!\")\n",
        "time_stop = time.time()\n",
        "print(\"TOTAL TIME for TRAINING: {}\".format(time_stop - time_start))\n",
        "saver.save(sess, 'RNN_Model_Trained.ckpt')"
      ],
      "execution_count": 10,
      "outputs": [
        {
          "output_type": "stream",
          "text": [
            "Device mapping:\n",
            "/job:localhost/replica:0/task:0/device:XLA_CPU:0 -> device: XLA_CPU device\n",
            "\n",
            "Iter #0:  Learning rate = 0.005000:   Batch Loss = 7.862561, Accuracy = 0.09375\n",
            "PERFORMANCE ON TEST SET:             Batch Loss = 6.145475387573242, Accuracy = 0.21231089532375336\n",
            "Iter #1000:  Learning rate = 0.004800:   Batch Loss = 1.955094, Accuracy = 0.421875\n",
            "PERFORMANCE ON TEST SET:             Batch Loss = 2.0317697525024414, Accuracy = 0.38828030228614807\n",
            "Iter #2000:  Learning rate = 0.004608:   Batch Loss = 1.877717, Accuracy = 0.359375\n",
            "PERFORMANCE ON TEST SET:             Batch Loss = 1.793221116065979, Accuracy = 0.4376630187034607\n",
            "Iter #3000:  Learning rate = 0.004424:   Batch Loss = 1.153631, Accuracy = 0.6328125\n",
            "PERFORMANCE ON TEST SET:             Batch Loss = 1.2482187747955322, Accuracy = 0.6242392659187317\n",
            "Iter #4000:  Learning rate = 0.004077:   Batch Loss = 1.093021, Accuracy = 0.65625\n",
            "PERFORMANCE ON TEST SET:             Batch Loss = 1.1089228391647339, Accuracy = 0.6710137128829956\n",
            "Iter #5000:  Learning rate = 0.003914:   Batch Loss = 0.954762, Accuracy = 0.7265625\n",
            "PERFORMANCE ON TEST SET:             Batch Loss = 0.9585248827934265, Accuracy = 0.711006760597229\n",
            "Iter #6000:  Learning rate = 0.003757:   Batch Loss = 0.429033, Accuracy = 0.9296875\n",
            "PERFORMANCE ON TEST SET:             Batch Loss = 0.4699306786060333, Accuracy = 0.916536271572113\n",
            "Iter #7000:  Learning rate = 0.003607:   Batch Loss = 0.426531, Accuracy = 0.9140625\n",
            "PERFORMANCE ON TEST SET:             Batch Loss = 0.47167015075683594, Accuracy = 0.9048861265182495\n",
            "Iter #8000:  Learning rate = 0.003324:   Batch Loss = 0.363101, Accuracy = 0.9375\n",
            "PERFORMANCE ON TEST SET:             Batch Loss = 0.3596324324607849, Accuracy = 0.9410537481307983\n",
            "Iter #9000:  Learning rate = 0.003191:   Batch Loss = 0.290006, Accuracy = 0.953125\n",
            "PERFORMANCE ON TEST SET:             Batch Loss = 0.3498612642288208, Accuracy = 0.9386193752288818\n",
            "Iter #10000:  Learning rate = 0.003064:   Batch Loss = 0.365406, Accuracy = 0.96875\n",
            "PERFORMANCE ON TEST SET:             Batch Loss = 0.4004891514778137, Accuracy = 0.9288819432258606\n",
            "Iter #11000:  Learning rate = 0.002823:   Batch Loss = 0.323486, Accuracy = 0.9609375\n",
            "PERFORMANCE ON TEST SET:             Batch Loss = 0.2810879349708557, Accuracy = 0.9619196653366089\n",
            "Iter #12000:  Learning rate = 0.002710:   Batch Loss = 0.215401, Accuracy = 1.0\n",
            "PERFORMANCE ON TEST SET:             Batch Loss = 0.27535179257392883, Accuracy = 0.9634845852851868\n",
            "Iter #13000:  Learning rate = 0.002602:   Batch Loss = 0.212691, Accuracy = 0.984375\n",
            "PERFORMANCE ON TEST SET:             Batch Loss = 0.23253756761550903, Accuracy = 0.9718309640884399\n",
            "Iter #14000:  Learning rate = 0.002498:   Batch Loss = 0.209639, Accuracy = 0.9765625\n",
            "PERFORMANCE ON TEST SET:             Batch Loss = 0.22983980178833008, Accuracy = 0.9706137776374817\n",
            "Iter #15000:  Learning rate = 0.002302:   Batch Loss = 0.267220, Accuracy = 0.96875\n",
            "PERFORMANCE ON TEST SET:             Batch Loss = 0.27076733112335205, Accuracy = 0.9492262005805969\n",
            "Iter #16000:  Learning rate = 0.002210:   Batch Loss = 0.173836, Accuracy = 0.984375\n",
            "PERFORMANCE ON TEST SET:             Batch Loss = 0.18961086869239807, Accuracy = 0.9791340827941895\n",
            "Iter #17000:  Learning rate = 0.002122:   Batch Loss = 0.188252, Accuracy = 0.9765625\n",
            "PERFORMANCE ON TEST SET:             Batch Loss = 0.22693398594856262, Accuracy = 0.9687011241912842\n",
            "Iter #18000:  Learning rate = 0.001955:   Batch Loss = 0.196797, Accuracy = 0.9765625\n",
            "PERFORMANCE ON TEST SET:             Batch Loss = 0.1526331752538681, Accuracy = 0.9897409081459045\n",
            "Iter #19000:  Learning rate = 0.001877:   Batch Loss = 0.161911, Accuracy = 0.984375\n",
            "PERFORMANCE ON TEST SET:             Batch Loss = 0.14676055312156677, Accuracy = 0.9911319613456726\n",
            "Iter #20000:  Learning rate = 0.001802:   Batch Loss = 0.156743, Accuracy = 0.9921875\n",
            "PERFORMANCE ON TEST SET:             Batch Loss = 0.15435904264450073, Accuracy = 0.9880020618438721\n",
            "Iter #21000:  Learning rate = 0.001730:   Batch Loss = 0.156641, Accuracy = 0.9921875\n",
            "PERFORMANCE ON TEST SET:             Batch Loss = 0.1867416501045227, Accuracy = 0.9737436771392822\n",
            "Iter #22000:  Learning rate = 0.001594:   Batch Loss = 0.132176, Accuracy = 0.984375\n",
            "PERFORMANCE ON TEST SET:             Batch Loss = 0.16297125816345215, Accuracy = 0.9801773428916931\n",
            "Iter #23000:  Learning rate = 0.001531:   Batch Loss = 0.139686, Accuracy = 0.984375\n",
            "PERFORMANCE ON TEST SET:             Batch Loss = 0.13730402290821075, Accuracy = 0.9876543283462524\n",
            "Iter #24000:  Learning rate = 0.001469:   Batch Loss = 0.104962, Accuracy = 1.0\n",
            "PERFORMANCE ON TEST SET:             Batch Loss = 0.14277441799640656, Accuracy = 0.9841766357421875\n",
            "Iter #25000:  Learning rate = 0.001354:   Batch Loss = 0.142506, Accuracy = 0.984375\n",
            "PERFORMANCE ON TEST SET:             Batch Loss = 0.15078061819076538, Accuracy = 0.9782646298408508\n",
            "Iter #26000:  Learning rate = 0.001300:   Batch Loss = 0.107107, Accuracy = 1.0\n",
            "PERFORMANCE ON TEST SET:             Batch Loss = 0.14300015568733215, Accuracy = 0.9831333756446838\n",
            "Iter #27000:  Learning rate = 0.001248:   Batch Loss = 0.130205, Accuracy = 0.9921875\n",
            "PERFORMANCE ON TEST SET:             Batch Loss = 0.16965870559215546, Accuracy = 0.9685271978378296\n",
            "Iter #28000:  Learning rate = 0.001198:   Batch Loss = 0.119117, Accuracy = 0.9921875\n",
            "PERFORMANCE ON TEST SET:             Batch Loss = 0.115639328956604, Accuracy = 0.990784227848053\n",
            "Iter #29000:  Learning rate = 0.001104:   Batch Loss = 0.111197, Accuracy = 0.984375\n",
            "PERFORMANCE ON TEST SET:             Batch Loss = 0.1469300389289856, Accuracy = 0.9808728694915771\n",
            "Iter #30000:  Learning rate = 0.001060:   Batch Loss = 0.084598, Accuracy = 1.0\n",
            "PERFORMANCE ON TEST SET:             Batch Loss = 0.10803002119064331, Accuracy = 0.9893931746482849\n",
            "Iter #31000:  Learning rate = 0.001018:   Batch Loss = 0.085710, Accuracy = 1.0\n",
            "PERFORMANCE ON TEST SET:             Batch Loss = 0.11075913906097412, Accuracy = 0.9902625679969788\n",
            "Iter #32000:  Learning rate = 0.000977:   Batch Loss = 0.089967, Accuracy = 1.0\n",
            "PERFORMANCE ON TEST SET:             Batch Loss = 0.09758970141410828, Accuracy = 0.9942618608474731\n",
            "Iter #33000:  Learning rate = 0.000900:   Batch Loss = 0.076247, Accuracy = 1.0\n",
            "PERFORMANCE ON TEST SET:             Batch Loss = 0.1082770973443985, Accuracy = 0.98591548204422\n",
            "Iter #34000:  Learning rate = 0.000864:   Batch Loss = 0.075940, Accuracy = 1.0\n",
            "PERFORMANCE ON TEST SET:             Batch Loss = 0.0870923176407814, Accuracy = 0.9946096539497375\n",
            "Iter #35000:  Learning rate = 0.000830:   Batch Loss = 0.071445, Accuracy = 1.0\n",
            "PERFORMANCE ON TEST SET:             Batch Loss = 0.08970340341329575, Accuracy = 0.9933924674987793\n",
            "Iter #36000:  Learning rate = 0.000765:   Batch Loss = 0.076869, Accuracy = 0.9921875\n",
            "PERFORMANCE ON TEST SET:             Batch Loss = 0.08967223018407822, Accuracy = 0.9916536211967468\n",
            "Iter #37000:  Learning rate = 0.000734:   Batch Loss = 0.067951, Accuracy = 1.0\n",
            "PERFORMANCE ON TEST SET:             Batch Loss = 0.0933489054441452, Accuracy = 0.9920014142990112\n",
            "Iter #38000:  Learning rate = 0.000705:   Batch Loss = 0.069634, Accuracy = 1.0\n",
            "PERFORMANCE ON TEST SET:             Batch Loss = 0.10039348900318146, Accuracy = 0.9886975884437561\n",
            "Iter #39000:  Learning rate = 0.000676:   Batch Loss = 0.065150, Accuracy = 1.0\n",
            "PERFORMANCE ON TEST SET:             Batch Loss = 0.07838074117898941, Accuracy = 0.9954790472984314\n",
            "Iter #40000:  Learning rate = 0.000623:   Batch Loss = 0.063671, Accuracy = 1.0\n",
            "PERFORMANCE ON TEST SET:             Batch Loss = 0.0758587121963501, Accuracy = 0.9947835206985474\n",
            "Optimization Finished!\n",
            "TOTAL TIME for TRAINING: 1268.2962148189545\n"
          ],
          "name": "stdout"
        },
        {
          "output_type": "execute_result",
          "data": {
            "text/plain": [
              "'RNN_Model_Trained.ckpt'"
            ]
          },
          "metadata": {
            "tags": []
          },
          "execution_count": 10
        }
      ]
    },
    {
      "cell_type": "code",
      "metadata": {
        "id": "u5yNwpWg6HfC",
        "colab_type": "code",
        "outputId": "c573801e-39b5-4066-bc37-723dfe409028",
        "colab": {
          "base_uri": "https://localhost:8080/",
          "height": 35
        }
      },
      "source": [
        "# Accuracy for test data\n",
        "one_hot_predictions, accuracy, final_loss = sess.run([pred, accuracy, cost], feed_dict={x: X_test, y: one_hot(y_test)})\n",
        "\n",
        "test_losses.append(final_loss)\n",
        "test_accuracies.append(accuracy)\n",
        "\n",
        "print(\"FINAL RESULT:\" + \"Batch Loss = {}\".format(final_loss) + \", Accuracy = {}\".format(accuracy))"
      ],
      "execution_count": 11,
      "outputs": [
        {
          "output_type": "stream",
          "text": [
            "FINAL RESULT:Batch Loss = 0.0758587121963501, Accuracy = 0.9947835206985474\n"
          ],
          "name": "stdout"
        }
      ]
    },
    {
      "cell_type": "markdown",
      "metadata": {
        "id": "XhEUDn9PP3J1",
        "colab_type": "text"
      },
      "source": [
        "# Plot the results"
      ]
    },
    {
      "cell_type": "code",
      "metadata": {
        "id": "LbrIwmpCP4ny",
        "colab_type": "code",
        "outputId": "a38d9c69-3671-4156-c4ef-6cba9bdf0a95",
        "colab": {
          "base_uri": "https://localhost:8080/",
          "height": 1000
        }
      },
      "source": [
        "width = 12\n",
        "height = 12\n",
        "plt.figure(figsize=(width, height))\n",
        "\n",
        "indep_train_axis = np.array(range(1, (len(train_losses)+1)))\n",
        "plt.plot(indep_train_axis, np.array(train_accuracies), \"g--\", label=\"Train accuracies\")\n",
        "\n",
        "indep_test_axis = np.append(np.array(range(1, len(test_losses)*int(display_iter), int(display_iter))[:-1]),[training_iters])\n",
        "\n",
        "plt.plot(indep_test_axis, np.array(test_accuracies), \"b-\", linewidth=2.0, label=\"Test accuracies\")\n",
        "print(len(test_accuracies))\n",
        "print(len(train_accuracies))\n",
        "\n",
        "plt.title(\"Training session's Accuracy over Iterations\")\n",
        "plt.legend(loc='lower right', shadow=True)\n",
        "plt.ylabel('Training Accuracy')\n",
        "plt.xlabel('Training Iteration')\n",
        "plt.savefig('Acc.jpeg')\n",
        "plt.show()\n",
        "\n",
        "# Results\n",
        "\n",
        "predictions = one_hot_predictions.argmax(1)\n",
        "\n",
        "print(\"Testing Accuracy: {}%\".format(100*accuracy))\n",
        "\n",
        "print(\"\")\n",
        "print(\"Precision: {}%\".format(100*metrics.precision_score(y_test, predictions, average=\"weighted\")))\n",
        "print(\"Recall: {}%\".format(100*metrics.recall_score(y_test, predictions, average=\"weighted\")))\n",
        "print(\"f1_score: {}%\".format(100*metrics.f1_score(y_test, predictions, average=\"weighted\")))\n",
        "\n",
        "print(\"\")\n",
        "print(\"Confusion Matrix:\")\n",
        "print(\"Created using test set of {} datapoints, normalised to % of each class in the test dataset\".format(len(y_test)))\n",
        "confusion_matrix = metrics.confusion_matrix(y_test, predictions)\n",
        "\n",
        "\n",
        "normalised_confusion_matrix = np.array(confusion_matrix, dtype=np.float32)/np.sum(confusion_matrix)*100\n",
        "\n",
        "\n",
        "# Plot Results: \n",
        "width = 12\n",
        "height = 12\n",
        "plt.figure(figsize=(width, height))\n",
        "plt.imshow(\n",
        "    normalised_confusion_matrix, \n",
        "    interpolation='nearest', \n",
        "    cmap=plt.cm.Blues\n",
        ")\n",
        "plt.title(\"Confusion matrix \\n(normalised to % of total test data)\")\n",
        "plt.colorbar()\n",
        "tick_marks = np.arange(n_classes)\n",
        "plt.xticks(tick_marks, LABELS, rotation=90)\n",
        "plt.yticks(tick_marks, LABELS)\n",
        "plt.tight_layout()\n",
        "plt.ylabel('True label')\n",
        "plt.xlabel('Predicted label')\n",
        "plt.savefig('Confusion.jpeg')\n",
        "plt.show()"
      ],
      "execution_count": 12,
      "outputs": [
        {
          "output_type": "stream",
          "text": [
            "42\n",
            "40001\n"
          ],
          "name": "stdout"
        },
        {
          "output_type": "display_data",
          "data": {
            "image/png": "[encoded data removed]",
            "text/plain": [
              "<Figure size 864x864 with 1 Axes>"
            ]
          },
          "metadata": {
            "tags": [],
            "needs_background": "light"
          }
        },
        {
          "output_type": "stream",
          "text": [
            "Testing Accuracy: 99.47835206985474%\n",
            "\n",
            "Precision: 99.47742929682504%\n",
            "Recall: 99.47835159102765%\n",
            "f1_score: 99.47745878587226%\n",
            "\n",
            "Confusion Matrix:\n",
            "Created using test set of 5751 datapoints, normalised to % of each class in the test dataset\n"
          ],
          "name": "stdout"
        },
        {
          "output_type": "display_data",
          "data": {
            "image/png": "[encoded data removed]",
            "text/plain": [
              "<Figure size 864x864 with 2 Axes>"
            ]
          },
          "metadata": {
            "tags": [],
            "needs_background": "light"
          }
        }
      ]
    },
    {
      "cell_type": "markdown",
      "metadata": {
        "id": "8GDHLaiCcQjm",
        "colab_type": "text"
      },
      "source": [
        "# Testing"
      ]
    },
    {
      "cell_type": "code",
      "metadata": {
        "id": "wnU5BzNMF-tv",
        "colab_type": "code",
        "colab": {}
      },
      "source": [
        "def tf_reset():\n",
        "    try:\n",
        "        sess.close()\n",
        "    except:\n",
        "        pass\n",
        "    tf.reset_default_graph()\n",
        "    # return tf.Session()\n",
        "    return tf.InteractiveSession(config=tf.ConfigProto(log_device_placement=True))"
      ],
      "execution_count": 0,
      "outputs": []
    },
    {
      "cell_type": "code",
      "metadata": {
        "id": "tSiufPrRCSXf",
        "colab_type": "code",
        "outputId": "300576d8-e58b-4842-c80b-8fe470a117c4",
        "colab": {
          "base_uri": "https://localhost:8080/",
          "height": 87
        }
      },
      "source": [
        "# test_path = '/content/gdrive/My Drive/Deep Learning/Checkpoints/Project Submission 5'\n",
        "test_path = '/content'\n",
        "sess = tf_reset()\n",
        "\n",
        "# Graph input/output\n",
        "x = tf.placeholder(tf.float32, [None, n_steps, n_input], name='x')\n",
        "y = tf.placeholder(tf.float32, [None, n_classes], name='y')\n",
        "\n",
        "# Graph weights\n",
        "weights = {\n",
        "    'hidden': tf.Variable(tf.random_normal([n_input, n_hidden]), name='W1'), \n",
        "    'out': tf.Variable(tf.random_normal([n_hidden, n_classes], mean=1.0), name='W2')\n",
        "}\n",
        "biases = {\n",
        "    'hidden': tf.Variable(tf.random_normal([n_hidden]), name='b1'),\n",
        "    'out': tf.Variable(tf.random_normal([n_classes]), name='b2')\n",
        "}\n",
        "\n",
        "pred = LSTM_RNN(x, weights, biases)\n",
        "\n",
        "# Restore the model \n",
        "saver = tf.train.Saver()\n",
        "saver.restore(sess, test_path+\"/RNN_Model_Trained.ckpt\")"
      ],
      "execution_count": 14,
      "outputs": [
        {
          "output_type": "stream",
          "text": [
            "Device mapping:\n",
            "/job:localhost/replica:0/task:0/device:XLA_CPU:0 -> device: XLA_CPU device\n",
            "\n",
            "INFO:tensorflow:Restoring parameters from /content/RNN_Model_Trained.ckpt\n"
          ],
          "name": "stdout"
        }
      ]
    },
    {
      "cell_type": "code",
      "metadata": {
        "id": "7y-2EB2uc0QW",
        "colab_type": "code",
        "outputId": "2f24980e-ded5-4f2d-b2c7-09d0d59e5f27",
        "colab": {
          "base_uri": "https://localhost:8080/",
          "height": 299
        }
      },
      "source": [
        "# Video 1\n",
        "test_vid = data_path + 'datapoint_1.txt'\n",
        "test_vid = load_X(test_vid)\n",
        "one_hot_predictions = sess.run([pred], feed_dict={x: test_vid})\n",
        "timestamp = np.loadtxt(data_path + 'timestamp1.txt')\n",
        "\n",
        "v = np.squeeze(np.array(one_hot_predictions))\n",
        "y = np.argmax(np.squeeze(v), axis=1)\n",
        "temp = np.concatenate((timestamp.reshape((-1, 1)), y.reshape((-1, 1))), axis=1)\n",
        "action = [\"Detect Clapping Hands\"]\n",
        "with open('video1.json', 'w') as json_file:\n",
        "  json.dump(action, json_file)\n",
        "  json.dump(LABELS, json_file)\n",
        "  json.dump(temp.T.tolist(), json_file)\n",
        "\n",
        "# plt.plot(timestamp, y, '.')\n",
        "# plt.xlabel(r'Time stamps $\\rightarrow$')\n",
        "# plt.ylabel(r'Labels $\\rightarrow$')\n",
        "# plt.savefig('Test1.jpeg')\n",
        "\n",
        "y_plot = np.where(y!=5, 0, 1)\n",
        "aidx = np.where(y==1)[0]\n",
        "for i in aidx:\n",
        "  if i == 0:\n",
        "    y_plot[i+1] = 1 if y_plot[i+1] == 0 else y_plot[i+1]\n",
        "  elif (i+1) == len(y_plot):\n",
        "    y_plot[i] = 1 if y_plot[i] == 0 else y_plot[i]\n",
        "  else:\n",
        "    y_plot[i-1] = 1 if y_plot[i-1] == 0 else y_plot[i-1]\n",
        "    y_plot[i+1] = 1 if y_plot[i+1] == 0 else y_plot[i+1]\n",
        "\n",
        "plt.plot(timestamp, y_plot)\n",
        "plt.xlabel(r'Time stamps $\\rightarrow$')\n",
        "plt.ylabel(r'Labels $\\rightarrow$')\n",
        "plt.title('Label 0: No Clapping and Label 1: Clapping')\n",
        "plt.savefig('Test1.jpeg')\n",
        "plt.show()"
      ],
      "execution_count": 48,
      "outputs": [
        {
          "output_type": "display_data",
          "data": {
            "image/png": "[encoded data removed]",
            "text/plain": [
              "<Figure size 432x288 with 1 Axes>"
            ]
          },
          "metadata": {
            "tags": [],
            "needs_background": "light"
          }
        }
      ]
    },
    {
      "cell_type": "code",
      "metadata": {
        "id": "NDJFRb4Dh7-T",
        "colab_type": "code",
        "outputId": "c9f538c6-a270-4a46-bd90-1be4d48f17dd",
        "colab": {
          "base_uri": "https://localhost:8080/",
          "height": 317
        }
      },
      "source": [
        "# Video 2\n",
        "test_vid = data_path + 'datapoint_2.txt'\n",
        "test_vid = load_X(test_vid)\n",
        "one_hot_predictions = sess.run([pred], feed_dict={x: test_vid})\n",
        "timestamp = np.loadtxt(data_path + 'timestamp2.txt')\n",
        "\n",
        "v = np.squeeze(np.array(one_hot_predictions))\n",
        "y = np.argmax(np.squeeze(v), axis=1)\n",
        "temp = np.concatenate((timestamp.reshape((-1, 1)), y.reshape((-1, 1))), axis=1)\n",
        "action = [\"Detect Clapping Hands\"]\n",
        "with open('video2.json', 'w') as json_file:\n",
        "  json.dump(action, json_file)\n",
        "  json.dump(LABELS, json_file)\n",
        "  json.dump(temp.T.tolist(), json_file)\n",
        "\n",
        "# plt.plot(timestamp, y, '.')\n",
        "# plt.xlabel(r'Time stamps $\\rightarrow$')\n",
        "# plt.ylabel(r'Labels $\\rightarrow$')\n",
        "# plt.savefig('Test2.jpeg')\n",
        "\n",
        "y_plot = np.where(y!=5, 0, 1)\n",
        "aidx = np.where(y==1)[0]\n",
        "for i in aidx:\n",
        "  if i == 0:\n",
        "    y_plot[i+1] = 1 if y_plot[i+1] == 0 else y_plot[i+1]\n",
        "  elif (i+1) == len(y_plot):\n",
        "    y_plot[i] = 1 if y_plot[i] == 0 else y_plot[i]\n",
        "  else:\n",
        "    y_plot[i-1] = 1 if y_plot[i-1] == 0 else y_plot[i-1]\n",
        "    y_plot[i+1] = 1 if y_plot[i+1] == 0 else y_plot[i+1]\n",
        "\n",
        "plt.plot(timestamp, y_plot)\n",
        "plt.xlabel(r'Time stamps $\\rightarrow$')\n",
        "plt.ylabel(r'Labels $\\rightarrow$')\n",
        "plt.title('Label 0: No Clapping and Label 1: Clapping')\n",
        "plt.show()\n",
        "plt.savefig('Test2.jpeg')"
      ],
      "execution_count": 47,
      "outputs": [
        {
          "output_type": "display_data",
          "data": {
            "image/png": "[encoded data removed]",
            "text/plain": [
              "<Figure size 432x288 with 1 Axes>"
            ]
          },
          "metadata": {
            "tags": [],
            "needs_background": "light"
          }
        },
        {
          "output_type": "display_data",
          "data": {
            "text/plain": [
              "<Figure size 432x288 with 0 Axes>"
            ]
          },
          "metadata": {
            "tags": []
          }
        }
      ]
    },
    {
      "cell_type": "code",
      "metadata": {
        "id": "TNUw5EaDh8Y_",
        "colab_type": "code",
        "outputId": "166b1e55-5003-43dd-caf2-86e0df30a104",
        "colab": {
          "base_uri": "https://localhost:8080/",
          "height": 317
        }
      },
      "source": [
        "# Video 3\n",
        "test_vid = data_path + 'datapoint_3.txt'\n",
        "test_vid = load_X(test_vid)\n",
        "one_hot_predictions = sess.run([pred], feed_dict={x: test_vid})\n",
        "timestamp = np.loadtxt(data_path + 'timestamp3.txt')\n",
        "\n",
        "v = np.squeeze(np.array(one_hot_predictions))\n",
        "y = np.argmax(np.squeeze(v), axis=1)\n",
        "temp = np.concatenate((timestamp.reshape((-1, 1)), y.reshape((-1, 1))), axis=1)\n",
        "action = [\"Detect Clapping Hands\"]\n",
        "with open('video3.json', 'w') as json_file:\n",
        "  json.dump(action, json_file)\n",
        "  json.dump(LABELS, json_file)\n",
        "  json.dump(temp.T.tolist(), json_file)\n",
        "\n",
        "# plt.plot(timestamp, y, '.')\n",
        "# plt.xlabel(r'Time stamps $\\rightarrow$')\n",
        "# plt.ylabel(r'Labels $\\rightarrow$')\n",
        "# plt.savefig('Test3.jpeg')\n",
        "\n",
        "y_plot = np.where(y!=5, 0, 1)\n",
        "aidx = np.where(y==1)[0]\n",
        "for i in aidx:\n",
        "  if i == 0:\n",
        "    y_plot[i+1] = 1 if y_plot[i+1] == 0 else y_plot[i+1]\n",
        "  elif (i+1) == len(y_plot):\n",
        "    y_plot[i] = 1 if y_plot[i] == 0 else y_plot[i]\n",
        "  else:\n",
        "    y_plot[i-1] = 1 if y_plot[i-1] == 0 else y_plot[i-1]\n",
        "    y_plot[i+1] = 1 if y_plot[i+1] == 0 else y_plot[i+1]\n",
        "\n",
        "plt.plot(timestamp, y_plot)\n",
        "plt.xlabel(r'Time stamps $\\rightarrow$')\n",
        "plt.ylabel(r'Labels $\\rightarrow$')\n",
        "plt.title('Label 0: No Clapping and Label 1: Clapping')\n",
        "plt.show()\n",
        "plt.savefig('Test3.jpeg')"
      ],
      "execution_count": 49,
      "outputs": [
        {
          "output_type": "display_data",
          "data": {
            "image/png": "[encoded data removed]",
            "text/plain": [
              "<Figure size 432x288 with 1 Axes>"
            ]
          },
          "metadata": {
            "tags": [],
            "needs_background": "light"
          }
        },
        {
          "output_type": "display_data",
          "data": {
            "text/plain": [
              "<Figure size 432x288 with 0 Axes>"
            ]
          },
          "metadata": {
            "tags": []
          }
        }
      ]
    },
    {
      "cell_type": "code",
      "metadata": {
        "id": "k1yH-PS2h80W",
        "colab_type": "code",
        "outputId": "a8f595e8-a571-4b03-9406-c79202031291",
        "colab": {
          "base_uri": "https://localhost:8080/",
          "height": 317
        }
      },
      "source": [
        "# Video 4\n",
        "test_vid = data_path + 'datapoint_4.txt'\n",
        "test_vid = load_X(test_vid)\n",
        "one_hot_predictions = sess.run([pred], feed_dict={x: test_vid})\n",
        "timestamp = np.loadtxt(data_path + 'timestamp4.txt')\n",
        "\n",
        "v = np.squeeze(np.array(one_hot_predictions))\n",
        "y = np.argmax(np.squeeze(v), axis=1)\n",
        "temp = np.concatenate((timestamp.reshape((-1, 1)), y.reshape((-1, 1))), axis=1)\n",
        "action = [\"Detect Clapping Hands\"]\n",
        "with open('video4.json', 'w') as json_file:\n",
        "  json.dump(action, json_file)\n",
        "  json.dump(LABELS, json_file)\n",
        "  json.dump(temp.T.tolist(), json_file)\n",
        "\n",
        "# plt.plot(timestamp, y, '.')\n",
        "# plt.xlabel(r'Time stamps $\\rightarrow$')\n",
        "# plt.ylabel(r'Labels $\\rightarrow$')\n",
        "# plt.savefig('Test4.jpeg')\n",
        "\n",
        "y_plot = np.where(y!=5, 0, 1)\n",
        "aidx = np.where(y==1)[0]\n",
        "for i in aidx:\n",
        "  if i == 0:\n",
        "    y_plot[i+1] = 1 if y_plot[i+1] == 0 else y_plot[i+1]\n",
        "  elif (i+1) == len(y_plot):\n",
        "    y_plot[i] = 1 if y_plot[i] == 0 else y_plot[i]\n",
        "  else:\n",
        "    y_plot[i-1] = 1 if y_plot[i-1] == 0 else y_plot[i-1]\n",
        "    y_plot[i+1] = 1 if y_plot[i+1] == 0 else y_plot[i+1]\n",
        "\n",
        "plt.plot(timestamp, y_plot)\n",
        "plt.xlabel(r'Time stamps $\\rightarrow$')\n",
        "plt.ylabel(r'Labels $\\rightarrow$')\n",
        "plt.title('Label 0: No Clapping and Label 1: Clapping')\n",
        "plt.show()\n",
        "plt.savefig('Test4.jpeg')"
      ],
      "execution_count": 50,
      "outputs": [
        {
          "output_type": "display_data",
          "data": {
            "image/png": "[encoded data removed]",
            "text/plain": [
              "<Figure size 432x288 with 1 Axes>"
            ]
          },
          "metadata": {
            "tags": [],
            "needs_background": "light"
          }
        },
        {
          "output_type": "display_data",
          "data": {
            "text/plain": [
              "<Figure size 432x288 with 0 Axes>"
            ]
          },
          "metadata": {
            "tags": []
          }
        }
      ]
    },
    {
      "cell_type": "code",
      "metadata": {
        "id": "013jIIdvh9SA",
        "colab_type": "code",
        "outputId": "02936590-6b66-4152-dd0a-44d8684462fa",
        "colab": {
          "base_uri": "https://localhost:8080/",
          "height": 317
        }
      },
      "source": [
        "# Video 5\n",
        "test_vid = data_path + 'datapoint_5.txt'\n",
        "test_vid = load_X(test_vid)\n",
        "one_hot_predictions = sess.run([pred], feed_dict={x: test_vid})\n",
        "timestamp = np.loadtxt(data_path + 'timestamp5.txt')\n",
        "\n",
        "v = np.squeeze(np.array(one_hot_predictions))\n",
        "y = np.argmax(np.squeeze(v), axis=1)\n",
        "temp = np.concatenate((timestamp.reshape((-1, 1)), y.reshape((-1, 1))), axis=1)\n",
        "action = [\"Detect Clapping Hands\"]\n",
        "with open('video5.json', 'w') as json_file:\n",
        "  json.dump(action, json_file)\n",
        "  json.dump(LABELS, json_file)\n",
        "  json.dump(temp.T.tolist(), json_file)\n",
        "\n",
        "# plt.plot(timestamp, y, '.')\n",
        "# plt.xlabel(r'Time stamps $\\rightarrow$')\n",
        "# plt.ylabel(r'Labels $\\rightarrow$')\n",
        "# plt.savefig('Test5.jpeg')\n",
        "\n",
        "y_plot = np.where(y!=5, 0, 1)\n",
        "aidx = np.where(y==1)[0]\n",
        "for i in aidx:\n",
        "  if i == 0:\n",
        "    y_plot[i+1] = 1 if y_plot[i+1] == 0 else y_plot[i+1]\n",
        "  elif (i+1) == len(y_plot):\n",
        "    y_plot[i] = 1 if y_plot[i] == 0 else y_plot[i]\n",
        "  else:\n",
        "    y_plot[i-1] = 1 if y_plot[i-1] == 0 else y_plot[i-1]\n",
        "    y_plot[i+1] = 1 if y_plot[i+1] == 0 else y_plot[i+1]\n",
        "\n",
        "plt.plot(timestamp, y_plot)\n",
        "plt.xlabel(r'Time stamps $\\rightarrow$')\n",
        "plt.ylabel(r'Labels $\\rightarrow$')\n",
        "plt.title('Label 0: No Clapping and Label 1: Clapping')\n",
        "plt.show()\n",
        "plt.savefig('Test5.jpeg')"
      ],
      "execution_count": 51,
      "outputs": [
        {
          "output_type": "display_data",
          "data": {
            "image/png": "[encoded data removed]",
            "text/plain": [
              "<Figure size 432x288 with 1 Axes>"
            ]
          },
          "metadata": {
            "tags": [],
            "needs_background": "light"
          }
        },
        {
          "output_type": "display_data",
          "data": {
            "text/plain": [
              "<Figure size 432x288 with 0 Axes>"
            ]
          },
          "metadata": {
            "tags": []
          }
        }
      ]
    }
  ]
}