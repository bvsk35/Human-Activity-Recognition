{
 "cells": [
  {
   "cell_type": "code",
   "execution_count": 2,
   "metadata": {},
   "outputs": [],
   "source": [
    "from PIL import Image\n",
    "# Image.open('img_l01_c01_s01_a07_r01_00000.pgm')"
   ]
  },
  {
   "cell_type": "code",
   "execution_count": 8,
   "metadata": {},
   "outputs": [],
   "source": [
    "for i in range(95):\n",
    "    if i < 10:\n",
    "        s = 'img_l01_c01_s01_a07_r01_0000' + str(i) + '.pgm'\n",
    "    else:\n",
    "        s = 'img_l01_c01_s01_a07_r01_000' + str(i) + '.pgm'\n",
    "    a = str(i) + '.png'\n",
    "    Image.open(s).save(a)"
   ]
  }
 ],
 "metadata": {
  "kernelspec": {
   "display_name": "Python 3",
   "language": "python",
   "name": "python3"
  },
  "language_info": {
   "codemirror_mode": {
    "name": "ipython",
    "version": 3
   },
   "file_extension": ".py",
   "mimetype": "text/x-python",
   "name": "python",
   "nbconvert_exporter": "python",
   "pygments_lexer": "ipython3",
   "version": "3.7.3"
  }
 },
 "nbformat": 4,
 "nbformat_minor": 2
}
